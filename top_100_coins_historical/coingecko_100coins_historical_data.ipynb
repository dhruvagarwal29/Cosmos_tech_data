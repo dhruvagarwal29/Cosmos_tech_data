{
  "cells": [
    {
      "cell_type": "markdown",
      "metadata": {
        "id": "oIUE4jGzFFZF"
      },
      "source": [
        "### Imports"
      ]
    },
    {
      "cell_type": "code",
      "execution_count": null,
      "metadata": {
        "id": "dcQbO6nxFFZH"
      },
      "outputs": [],
      "source": [
        "from bs4 import BeautifulSoup\n",
        "import requests\n",
        "import pandas as pd "
      ]
    },
    {
      "cell_type": "markdown",
      "metadata": {
        "id": "S6YO4qrOFFZI"
      },
      "source": [
        "### HTTP Request"
      ]
    },
    {
      "cell_type": "markdown",
      "metadata": {
        "id": "enkw1zHdFFZI"
      },
      "source": [
        "#### store website in variable"
      ]
    },
    {
      "cell_type": "code",
      "execution_count": null,
      "metadata": {
        "id": "5QfXr3MjFFZJ"
      },
      "outputs": [],
      "source": [
        "ua = {\"User-Agent\":\"Mozilla/5.0 (Windows NT 10.0; Win64; x64) AppleWebKit/537.36 (KHTML, like Gecko) Chrome/92.0.4515.107 Safari/537.36 Edg/92.0.902.62\"}"
      ]
    },
    {
      "cell_type": "code",
      "source": [
        "web = 'https://www.coingecko.com/en'"
      ],
      "metadata": {
        "id": "tFeQS8unqray"
      },
      "execution_count": null,
      "outputs": []
    },
    {
      "cell_type": "code",
      "source": [
        "resp = requests.get(web)"
      ],
      "metadata": {
        "id": "NGOIxUj1qrUB"
      },
      "execution_count": null,
      "outputs": []
    },
    {
      "cell_type": "code",
      "source": [
        "resp.status_code"
      ],
      "metadata": {
        "colab": {
          "base_uri": "https://localhost:8080/"
        },
        "id": "P64eK44GqrNz",
        "outputId": "84ca9f0a-28fd-413b-8c62-2b8d4cae7afe"
      },
      "execution_count": null,
      "outputs": [
        {
          "output_type": "execute_result",
          "data": {
            "text/plain": [
              "200"
            ]
          },
          "metadata": {},
          "execution_count": 75
        }
      ]
    },
    {
      "cell_type": "code",
      "source": [
        "soup = BeautifulSoup(resp.content, 'html.parser')"
      ],
      "metadata": {
        "id": "i6O3_NAdqrHx"
      },
      "execution_count": null,
      "outputs": []
    },
    {
      "cell_type": "code",
      "source": [
        ""
      ],
      "metadata": {
        "id": "fLl0_6PFz8l4"
      },
      "execution_count": null,
      "outputs": []
    },
    {
      "cell_type": "code",
      "source": [
        "res = soup.find('table', {'class':'table-scrollable'}).find('tbody').find_all('tr')"
      ],
      "metadata": {
        "id": "Oskb-woWrDXb"
      },
      "execution_count": null,
      "outputs": []
    },
    {
      "cell_type": "code",
      "source": [
        "res[20]"
      ],
      "metadata": {
        "id": "GKTjiUE8z9Sq"
      },
      "execution_count": null,
      "outputs": []
    },
    {
      "cell_type": "code",
      "source": [
        "res[26].find('a', {'class':'tw-hidden lg:tw-flex font-bold tw-items-center tw-justify-between'}).get(\"href\").split('/')[-1]\n"
      ],
      "metadata": {
        "colab": {
          "base_uri": "https://localhost:8080/",
          "height": 35
        },
        "id": "ZxcdzSae0e3Y",
        "outputId": "778d3108-d5df-4fda-9551-d1ed1bcf634c"
      },
      "execution_count": null,
      "outputs": [
        {
          "output_type": "execute_result",
          "data": {
            "text/plain": [
              "'near'"
            ],
            "application/vnd.google.colaboratory.intrinsic+json": {
              "type": "string"
            }
          },
          "metadata": {},
          "execution_count": 114
        }
      ]
    },
    {
      "cell_type": "code",
      "source": [
        ""
      ],
      "metadata": {
        "id": "BpdfH1jT1zOl"
      },
      "execution_count": null,
      "outputs": []
    },
    {
      "cell_type": "code",
      "source": [
        "len(res)"
      ],
      "metadata": {
        "colab": {
          "base_uri": "https://localhost:8080/"
        },
        "id": "oGd-HmrBrDVU",
        "outputId": "086d2dbe-3e8b-4326-a7b2-100c82731d11"
      },
      "execution_count": null,
      "outputs": [
        {
          "output_type": "execute_result",
          "data": {
            "text/plain": [
              "100"
            ]
          },
          "metadata": {},
          "execution_count": 78
        }
      ]
    },
    {
      "cell_type": "code",
      "source": [
        "# first try works fine but issues with some currencies without using href\n",
        "\n",
        "# name_currency = []\n",
        "\n",
        "\n",
        "# for result in res:\n",
        "    \n",
        "#     # name\n",
        "#     try:\n",
        "#         name_currency.append(result.find('a', {'class':'tw-hidden lg:tw-flex font-bold tw-items-center tw-justify-between'}).get_text().strip().lower().replace(' ', '-'))\n",
        "#     except:\n",
        "#         name_currency.append('n/a')"
      ],
      "metadata": {
        "id": "JK9atA7ZrDTP"
      },
      "execution_count": null,
      "outputs": []
    },
    {
      "cell_type": "code",
      "source": [
        "# second try with using href\n",
        "name_currency = []\n",
        "\n",
        "\n",
        "for result in res:\n",
        "    \n",
        "    # name\n",
        "    try:\n",
        "        name_currency.append(result.find('a', {'class':'tw-hidden lg:tw-flex font-bold tw-items-center tw-justify-between'}).get(\"href\").split('/')[-1])\n",
        "\n",
        "    except:\n",
        "        name_currency.append('n/a')"
      ],
      "metadata": {
        "id": "-Ev-WHPJw1ih"
      },
      "execution_count": null,
      "outputs": []
    },
    {
      "cell_type": "code",
      "source": [
        "name_currency"
      ],
      "metadata": {
        "colab": {
          "base_uri": "https://localhost:8080/"
        },
        "id": "BROjxWsvqq9W",
        "outputId": "7f972c49-7552-4b9f-8cbe-4fc52672ae46"
      },
      "execution_count": null,
      "outputs": [
        {
          "output_type": "execute_result",
          "data": {
            "text/plain": [
              "['bitcoin',\n",
              " 'ethereum',\n",
              " 'tether',\n",
              " 'usd-coin',\n",
              " 'bnb',\n",
              " 'binance-usd',\n",
              " 'xrp',\n",
              " 'cardano',\n",
              " 'solana',\n",
              " 'dogecoin',\n",
              " 'polkadot',\n",
              " 'dai',\n",
              " 'shiba-inu',\n",
              " 'tron',\n",
              " 'avalanche',\n",
              " 'leo-token',\n",
              " 'polygon',\n",
              " 'wrapped-bitcoin',\n",
              " 'lido-staked-ether',\n",
              " 'litecoin',\n",
              " 'ftx-token',\n",
              " 'okb',\n",
              " 'cronos',\n",
              " 'chainlink',\n",
              " 'uniswap',\n",
              " 'stellar',\n",
              " 'near',\n",
              " 'cosmos-hub',\n",
              " 'monero',\n",
              " 'algorand',\n",
              " 'chain',\n",
              " 'bitcoin-cash',\n",
              " 'ethereum-classic',\n",
              " 'theta-fuel',\n",
              " 'vechain',\n",
              " 'flow',\n",
              " 'internet-computer',\n",
              " 'the-sandbox',\n",
              " 'decentraland',\n",
              " 'frax',\n",
              " 'apecoin',\n",
              " 'hedera',\n",
              " 'tezos',\n",
              " 'true-usd',\n",
              " 'filecoin',\n",
              " 'elrond',\n",
              " 'theta-network',\n",
              " 'quant',\n",
              " 'axie-infinity',\n",
              " 'aave',\n",
              " 'helium',\n",
              " 'bitcoin-sv',\n",
              " 'eos',\n",
              " 'compound-usd-coin',\n",
              " 'kucoin-shares',\n",
              " 'pax-dollar',\n",
              " 'huobi-btc',\n",
              " 'bittorrent',\n",
              " 'maker',\n",
              " 'neutrino-usd',\n",
              " 'ecash',\n",
              " 'iota',\n",
              " 'usdd',\n",
              " 'huobi-token',\n",
              " 'the-graph',\n",
              " 'compound-dai',\n",
              " 'zcash',\n",
              " 'klaytn',\n",
              " 'tenset',\n",
              " 'arweave',\n",
              " 'radix',\n",
              " 'thorchain',\n",
              " 'fantom',\n",
              " 'compound-ether',\n",
              " 'neo',\n",
              " 'pax-gold',\n",
              " 'gatetoken',\n",
              " 'basic-attention-token',\n",
              " 'synthetix-network-token',\n",
              " 'chiliz',\n",
              " 'zilliqa',\n",
              " 'defichain',\n",
              " 'stepn',\n",
              " 'bitdao',\n",
              " 'stacks',\n",
              " 'waves',\n",
              " 'lido-dao',\n",
              " 'loopring',\n",
              " 'dash',\n",
              " 'enjin-coin',\n",
              " 'pancakeswap',\n",
              " 'kusama',\n",
              " 'tether-gold',\n",
              " 'ecomi',\n",
              " 'amp',\n",
              " 'evmos',\n",
              " 'curve-dao-token',\n",
              " 'serum',\n",
              " 'convex-finance',\n",
              " 'terraclassicusd']"
            ]
          },
          "metadata": {},
          "execution_count": 116
        }
      ]
    },
    {
      "cell_type": "code",
      "source": [
        "print (name_currency[0])"
      ],
      "metadata": {
        "colab": {
          "base_uri": "https://localhost:8080/"
        },
        "id": "KBBuyA2Qqq2Y",
        "outputId": "b4881879-fce3-4ba8-8521-6f63d1358d9f"
      },
      "execution_count": null,
      "outputs": [
        {
          "output_type": "stream",
          "name": "stdout",
          "text": [
            "Bitcoin\n"
          ]
        }
      ]
    },
    {
      "cell_type": "code",
      "execution_count": null,
      "metadata": {
        "id": "IaUht7YOFFZJ"
      },
      "outputs": [],
      "source": [
        "website = 'https://www.coingecko.com/en/coins/bitcoin/historical_data?start_date=2022-01-01&end_date=2022-07-07#panel'"
      ]
    },
    {
      "cell_type": "markdown",
      "metadata": {
        "id": "9EuyJ6qaFFZJ"
      },
      "source": [
        "#### Get Request"
      ]
    },
    {
      "cell_type": "code",
      "execution_count": null,
      "metadata": {
        "id": "IfvpuPQMFFZK"
      },
      "outputs": [],
      "source": [
        "response = requests.get(website)"
      ]
    },
    {
      "cell_type": "markdown",
      "metadata": {
        "id": "5ZBMaoxlFFZK"
      },
      "source": [
        "#### Status Code"
      ]
    },
    {
      "cell_type": "code",
      "execution_count": null,
      "metadata": {
        "id": "WrGoxBrBFFZK",
        "outputId": "61e0694c-7a02-46f6-ae24-5c03259afdcc",
        "colab": {
          "base_uri": "https://localhost:8080/"
        }
      },
      "outputs": [
        {
          "output_type": "execute_result",
          "data": {
            "text/plain": [
              "200"
            ]
          },
          "metadata": {},
          "execution_count": 19
        }
      ],
      "source": [
        "response.status_code"
      ]
    },
    {
      "cell_type": "markdown",
      "metadata": {
        "id": "P62_c2o_FFZL"
      },
      "source": [
        "### Soup Object"
      ]
    },
    {
      "cell_type": "code",
      "execution_count": null,
      "metadata": {
        "id": "e-5_IIWjFFZM"
      },
      "outputs": [],
      "source": [
        "soup = BeautifulSoup(response.content, 'html.parser')"
      ]
    },
    {
      "cell_type": "markdown",
      "metadata": {
        "id": "8GUXVgowFFZM"
      },
      "source": [
        "### Results"
      ]
    },
    {
      "cell_type": "code",
      "execution_count": null,
      "metadata": {
        "id": "yxHPjxZdFFZM"
      },
      "outputs": [],
      "source": [
        "results = soup.find('table', {'class':'table table-striped text-sm text-lg-normal'}).find('tbody').find_all('tr')"
      ]
    },
    {
      "cell_type": "code",
      "execution_count": null,
      "metadata": {
        "id": "t_PvKqA-FFZM",
        "outputId": "acdba3a7-5350-4515-c0eb-976d0698afa4",
        "colab": {
          "base_uri": "https://localhost:8080/"
        }
      },
      "outputs": [
        {
          "output_type": "execute_result",
          "data": {
            "text/plain": [
              "13"
            ]
          },
          "metadata": {},
          "execution_count": 124
        }
      ],
      "source": [
        "len(results)"
      ]
    },
    {
      "cell_type": "code",
      "execution_count": null,
      "metadata": {
        "id": "u8kstMjsFFZM",
        "outputId": "6eec490d-4e6a-4c54-ec9a-193e24188b81",
        "colab": {
          "base_uri": "https://localhost:8080/"
        }
      },
      "outputs": [
        {
          "output_type": "execute_result",
          "data": {
            "text/plain": [
              "<tr>\n",
              "<th class=\"font-semibold text-center\" scope=\"row\">2022-01-13</th>\n",
              "<td class=\"text-center\">\n",
              "$10,569,377,177\n",
              "</td>\n",
              "<td class=\"text-center\">\n",
              "$263,336,901\n",
              "</td>\n",
              "<td class=\"text-center\">\n",
              "$1.001\n",
              "</td>\n",
              "<td class=\"text-center\">\n",
              "N/A\n",
              "</td>\n",
              "</tr>"
            ]
          },
          "metadata": {},
          "execution_count": 125
        }
      ],
      "source": [
        "results[0]"
      ]
    },
    {
      "cell_type": "markdown",
      "metadata": {
        "id": "9grk5yoiFFZN"
      },
      "source": [
        "### Target necessary data"
      ]
    },
    {
      "cell_type": "code",
      "execution_count": null,
      "metadata": {
        "id": "6Xv-O73AFFZN"
      },
      "outputs": [],
      "source": [
        "# Date\n",
        "# Market Cap\n",
        "# Volume\n",
        "# Open\n",
        "# Close"
      ]
    },
    {
      "cell_type": "markdown",
      "metadata": {
        "id": "wybWDDK1FFZN"
      },
      "source": [
        "#### Name"
      ]
    },
    {
      "cell_type": "code",
      "execution_count": null,
      "metadata": {
        "id": "_nTUyC-7FFZN",
        "outputId": "e49fdbee-0645-4f0d-e1d0-c9703b723344",
        "colab": {
          "base_uri": "https://localhost:8080/",
          "height": 35
        }
      },
      "outputs": [
        {
          "output_type": "execute_result",
          "data": {
            "text/plain": [
              "'2022-07-07'"
            ],
            "application/vnd.google.colaboratory.intrinsic+json": {
              "type": "string"
            }
          },
          "metadata": {},
          "execution_count": 25
        }
      ],
      "source": [
        "results[0].find('th', {'class':'font-semibold text-center'}).get_text().strip()"
      ]
    },
    {
      "cell_type": "markdown",
      "metadata": {
        "id": "RdsD15HUFFZO"
      },
      "source": [
        "#### Price"
      ]
    },
    {
      "cell_type": "code",
      "execution_count": null,
      "metadata": {
        "id": "fKOXq44MFFZO",
        "outputId": "9c7719a7-1f3a-4258-a812-29003f9f8828",
        "colab": {
          "base_uri": "https://localhost:8080/",
          "height": 35
        }
      },
      "outputs": [
        {
          "output_type": "execute_result",
          "data": {
            "text/plain": [
              "'$392,479,833,071'"
            ],
            "application/vnd.google.colaboratory.intrinsic+json": {
              "type": "string"
            }
          },
          "metadata": {},
          "execution_count": 26
        }
      ],
      "source": [
        "results[0].find('td', {'class':'text-center'}).get_text().strip()"
      ]
    },
    {
      "cell_type": "markdown",
      "metadata": {
        "id": "O-z3RhzHFFZO"
      },
      "source": [
        "#### 1h Change"
      ]
    },
    {
      "cell_type": "code",
      "execution_count": null,
      "metadata": {
        "id": "_hCUljeqFFZO",
        "outputId": "9efab992-ee71-4334-acd0-7fd8fce385c2",
        "colab": {
          "base_uri": "https://localhost:8080/"
        }
      },
      "outputs": [
        {
          "output_type": "stream",
          "name": "stdout",
          "text": [
            "$392,479,833,071\n",
            "$21,755,499,642\n",
            "$20,567\n",
            "N/A\n"
          ]
        }
      ],
      "source": [
        "headings = []\n",
        "for td in results[0].find_all(\"td\"):\n",
        "    # remove any newlines and extra spaces from left and right\n",
        "    headings.append(td.text.replace('\\n', ' ').strip())\n",
        "\n",
        "print(headings[0])\n",
        "print(headings[1])\n",
        "print(headings[2])\n",
        "print(headings[3])\n"
      ]
    },
    {
      "cell_type": "code",
      "source": [
        ""
      ],
      "metadata": {
        "id": "OJFTGqfdshSJ"
      },
      "execution_count": null,
      "outputs": []
    },
    {
      "cell_type": "markdown",
      "metadata": {
        "id": "u7GpqlhSFFZP"
      },
      "source": [
        "### Put everything together inside a For-Loop"
      ]
    },
    {
      "cell_type": "code",
      "execution_count": null,
      "metadata": {
        "id": "x9qtMz28FFZP"
      },
      "outputs": [],
      "source": [
        "date = []\n",
        "market_cap = []\n",
        "volume = []\n",
        "open = []\n",
        "close = []\n",
        "\n",
        "for result in results:\n",
        "    \n",
        "    # date\n",
        "    try:\n",
        "        date.append(result.find('th', {'class':'font-semibold text-center'}).get_text().strip()) \n",
        "    except:\n",
        "        date.append('n/a')\n",
        "    headings = []\n",
        "    for td in result.find_all(\"td\"):\n",
        "        # remove any newlines and extra spaces from left and right\n",
        "        headings.append(td.text.replace('\\n', ' ').strip())\n",
        "\n",
        "        #print(headings[0])\n",
        "        #print(headings[1])\n",
        "        #print(headings[2])\n",
        "        #print(headings[3])\n",
        "    #  market cap \n",
        "    try:\n",
        "      market_cap.append(headings[0])\n",
        "    except:\n",
        "      market_cap.append('n/a')\n",
        "    # volume\n",
        "    try:\n",
        "        volume.append(headings[1])\n",
        "    except:\n",
        "        volume.append('n/a')\n",
        "    \n",
        "    # open\n",
        "    try:\n",
        "        open.append(headings[2])\n",
        "    except:\n",
        "        open.append('n/a')\n",
        "        \n",
        "    # close\n",
        "    try:\n",
        "        close.append(headings[3])\n",
        "    except:\n",
        "        close.append('n/a')\n",
        "    \n",
        "  "
      ]
    },
    {
      "cell_type": "markdown",
      "metadata": {
        "id": "UGR01GCWFFZQ"
      },
      "source": [
        "### Create Pandas Dataframe"
      ]
    },
    {
      "cell_type": "code",
      "execution_count": null,
      "metadata": {
        "id": "bFnBNhAiFFZQ"
      },
      "outputs": [],
      "source": [
        "# create dataframe\n",
        "crypto = pd.DataFrame({'Coin': 'Bitcoin', 'Date':date, 'Market cap':market_cap,\n",
        "                                'Volume': volume, 'Open': open, 'Close': close,})"
      ]
    },
    {
      "cell_type": "markdown",
      "source": [
        ""
      ],
      "metadata": {
        "id": "vc1JcpTNxwa_"
      }
    },
    {
      "cell_type": "code",
      "execution_count": null,
      "metadata": {
        "id": "l-phPl-OFFZQ"
      },
      "outputs": [],
      "source": [
        "# output dataframe\n",
        "crypto"
      ]
    },
    {
      "cell_type": "code",
      "execution_count": null,
      "metadata": {
        "id": "P2guv7pmFFZQ"
      },
      "outputs": [],
      "source": [
        ""
      ]
    },
    {
      "cell_type": "markdown",
      "metadata": {
        "id": "xOx51yUXFFZQ"
      },
      "source": [
        "### Output in Excel"
      ]
    },
    {
      "cell_type": "code",
      "execution_count": null,
      "metadata": {
        "id": "w3fOP6oqFFZQ"
      },
      "outputs": [],
      "source": [
        "crypto.to_excel('coingecko.com_single.xlsx', index=False)"
      ]
    },
    {
      "cell_type": "code",
      "source": [
        ""
      ],
      "metadata": {
        "id": "cXUJz4BTv7Jy"
      },
      "execution_count": null,
      "outputs": []
    },
    {
      "cell_type": "markdown",
      "source": [
        " ### From start of the year"
      ],
      "metadata": {
        "id": "1hpydzfHv8lA"
      }
    },
    {
      "cell_type": "code",
      "source": [
        "# empty list\n",
        "name = []\n",
        "date = []\n",
        "market_cap = []\n",
        "volume = []\n",
        "open = []\n",
        "close = []\n",
        "for j in range(len(name_currency)):\n",
        "  name1 = name_currency[j]\n",
        "  print(name1)\n",
        "  for i in range(1,5):\n",
        "    # website\n",
        "    website= f'https://www.coingecko.com/en/coins/{name1}/historical_data?end_date=2022-07-12&page={i}&start_date=2022-01-01'\n",
        "    #print (website)\n",
        "    # request to website\n",
        "    response = requests.get(website)\n",
        "\n",
        "    # soup object\n",
        "    soup = BeautifulSoup(response.content, 'html.parser')\n",
        "\n",
        "    # results\n",
        "    results = soup.find('table', {'class':'table table-striped text-sm text-lg-normal'}).find('tbody').find_all('tr') \n",
        "\n",
        "    for result in results:\n",
        "      # name\n",
        "      name.append(name1)\n",
        "      # date\n",
        "      try:\n",
        "          date.append(result.find('th', {'class':'font-semibold text-center'}).get_text().strip()) \n",
        "      except:\n",
        "          date.append('n/a')\n",
        "      headings = []\n",
        "      for td in result.find_all(\"td\"):\n",
        "          # remove any newlines and extra spaces from left and right\n",
        "          headings.append(td.text.replace('\\n', ' ').strip())\n",
        "\n",
        "          #print(headings[0])\n",
        "          #print(headings[1])\n",
        "          #print(headings[2])\n",
        "          #print(headings[3])\n",
        "      #  market cap \n",
        "      try:\n",
        "        market_cap.append(headings[0])\n",
        "      except:\n",
        "        market_cap.append('n/a')\n",
        "      # volume\n",
        "      try:\n",
        "          volume.append(headings[1])\n",
        "      except:\n",
        "          volume.append('n/a')\n",
        "      \n",
        "      # open\n",
        "      try:\n",
        "          open.append(headings[2])\n",
        "      except:\n",
        "          open.append('n/a')\n",
        "          \n",
        "      # close\n",
        "      try:\n",
        "          close.append(headings[3])\n",
        "      except:\n",
        "          close.append('n/a')\n",
        "    \n",
        "\n"
      ],
      "metadata": {
        "id": "ZNCoiffrv7B_",
        "colab": {
          "base_uri": "https://localhost:8080/"
        },
        "outputId": "16c4b21d-4c3d-4056-f4bd-20003d24a75a"
      },
      "execution_count": null,
      "outputs": [
        {
          "output_type": "stream",
          "name": "stdout",
          "text": [
            "bitcoin\n",
            "ethereum\n",
            "tether\n",
            "usd-coin\n",
            "bnb\n",
            "binance-usd\n",
            "xrp\n",
            "cardano\n",
            "solana\n",
            "dogecoin\n",
            "polkadot\n",
            "dai\n",
            "shiba-inu\n",
            "tron\n",
            "avalanche\n",
            "leo-token\n",
            "polygon\n",
            "wrapped-bitcoin\n",
            "lido-staked-ether\n",
            "litecoin\n",
            "ftx-token\n",
            "okb\n",
            "cronos\n",
            "chainlink\n",
            "uniswap\n",
            "stellar\n",
            "near\n",
            "cosmos-hub\n",
            "monero\n",
            "algorand\n",
            "chain\n",
            "bitcoin-cash\n",
            "ethereum-classic\n",
            "theta-fuel\n",
            "vechain\n",
            "flow\n",
            "internet-computer\n",
            "the-sandbox\n",
            "decentraland\n",
            "frax\n",
            "apecoin\n",
            "hedera\n",
            "tezos\n",
            "true-usd\n",
            "filecoin\n",
            "elrond\n",
            "theta-network\n",
            "quant\n",
            "axie-infinity\n",
            "aave\n",
            "helium\n",
            "bitcoin-sv\n",
            "eos\n",
            "compound-usd-coin\n",
            "kucoin-shares\n",
            "pax-dollar\n",
            "huobi-btc\n",
            "bittorrent\n",
            "maker\n",
            "neutrino-usd\n",
            "ecash\n",
            "iota\n",
            "usdd\n",
            "huobi-token\n",
            "the-graph\n",
            "compound-dai\n",
            "zcash\n",
            "klaytn\n",
            "tenset\n",
            "arweave\n",
            "radix\n",
            "thorchain\n",
            "fantom\n",
            "compound-ether\n",
            "neo\n",
            "pax-gold\n",
            "gatetoken\n",
            "basic-attention-token\n",
            "synthetix-network-token\n",
            "chiliz\n",
            "zilliqa\n",
            "defichain\n",
            "stepn\n",
            "bitdao\n",
            "stacks\n",
            "waves\n",
            "lido-dao\n",
            "loopring\n",
            "dash\n",
            "enjin-coin\n",
            "pancakeswap\n",
            "kusama\n",
            "tether-gold\n",
            "ecomi\n",
            "amp\n",
            "evmos\n",
            "curve-dao-token\n",
            "serum\n",
            "convex-finance\n",
            "terraclassicusd\n"
          ]
        }
      ]
    },
    {
      "cell_type": "code",
      "source": [
        "# create dataframe\n",
        "crypto = pd.DataFrame({'Coin': name, 'Date':date, 'Market cap':market_cap,\n",
        "                                'Volume': volume, 'Open': open, 'Close': close,})"
      ],
      "metadata": {
        "id": "jXZkZZTYv64X"
      },
      "execution_count": null,
      "outputs": []
    },
    {
      "cell_type": "code",
      "source": [
        "# output dataframe\n",
        "crypto"
      ],
      "metadata": {
        "colab": {
          "base_uri": "https://localhost:8080/",
          "height": 424
        },
        "id": "ufI8Lyx0xovT",
        "outputId": "51589d8f-221f-410b-9d6e-439a584d6da3"
      },
      "execution_count": null,
      "outputs": [
        {
          "output_type": "execute_result",
          "data": {
            "text/plain": [
              "                  Coin        Date        Market cap           Volume  \\\n",
              "0              bitcoin  2022-07-12  $382,000,290,322  $21,319,467,249   \n",
              "1              bitcoin  2022-07-11  $398,249,545,889  $25,037,950,754   \n",
              "2              bitcoin  2022-07-10  $412,459,838,738  $26,211,587,452   \n",
              "3              bitcoin  2022-07-09  $417,690,286,505  $46,645,398,901   \n",
              "4              bitcoin  2022-07-08  $414,055,638,574  $21,927,087,503   \n",
              "...                ...         ...               ...              ...   \n",
              "18822  terraclassicusd  2022-01-05   $10,329,098,172     $223,862,226   \n",
              "18823  terraclassicusd  2022-01-04   $10,257,790,611     $158,217,004   \n",
              "18824  terraclassicusd  2022-01-03   $10,150,368,764     $105,447,012   \n",
              "18825  terraclassicusd  2022-01-02   $10,163,834,119     $143,190,915   \n",
              "18826  terraclassicusd  2022-01-01   $10,135,310,922     $169,797,655   \n",
              "\n",
              "             Open       Close  \n",
              "0      $19,998.47         N/A  \n",
              "1         $20,860  $19,998.47  \n",
              "2         $21,590     $20,860  \n",
              "3         $21,859     $21,590  \n",
              "4         $21,661     $21,859  \n",
              "...           ...         ...  \n",
              "18822      $1.001      $1.003  \n",
              "18823      $1.002      $1.001  \n",
              "18824      $1.002      $1.002  \n",
              "18825      $1.006      $1.002  \n",
              "18826   $0.999271      $1.006  \n",
              "\n",
              "[18827 rows x 6 columns]"
            ],
            "text/html": [
              "\n",
              "  <div id=\"df-7b2fe228-96c7-4a6e-a00b-68f5c3da2154\">\n",
              "    <div class=\"colab-df-container\">\n",
              "      <div>\n",
              "<style scoped>\n",
              "    .dataframe tbody tr th:only-of-type {\n",
              "        vertical-align: middle;\n",
              "    }\n",
              "\n",
              "    .dataframe tbody tr th {\n",
              "        vertical-align: top;\n",
              "    }\n",
              "\n",
              "    .dataframe thead th {\n",
              "        text-align: right;\n",
              "    }\n",
              "</style>\n",
              "<table border=\"1\" class=\"dataframe\">\n",
              "  <thead>\n",
              "    <tr style=\"text-align: right;\">\n",
              "      <th></th>\n",
              "      <th>Coin</th>\n",
              "      <th>Date</th>\n",
              "      <th>Market cap</th>\n",
              "      <th>Volume</th>\n",
              "      <th>Open</th>\n",
              "      <th>Close</th>\n",
              "    </tr>\n",
              "  </thead>\n",
              "  <tbody>\n",
              "    <tr>\n",
              "      <th>0</th>\n",
              "      <td>bitcoin</td>\n",
              "      <td>2022-07-12</td>\n",
              "      <td>$382,000,290,322</td>\n",
              "      <td>$21,319,467,249</td>\n",
              "      <td>$19,998.47</td>\n",
              "      <td>N/A</td>\n",
              "    </tr>\n",
              "    <tr>\n",
              "      <th>1</th>\n",
              "      <td>bitcoin</td>\n",
              "      <td>2022-07-11</td>\n",
              "      <td>$398,249,545,889</td>\n",
              "      <td>$25,037,950,754</td>\n",
              "      <td>$20,860</td>\n",
              "      <td>$19,998.47</td>\n",
              "    </tr>\n",
              "    <tr>\n",
              "      <th>2</th>\n",
              "      <td>bitcoin</td>\n",
              "      <td>2022-07-10</td>\n",
              "      <td>$412,459,838,738</td>\n",
              "      <td>$26,211,587,452</td>\n",
              "      <td>$21,590</td>\n",
              "      <td>$20,860</td>\n",
              "    </tr>\n",
              "    <tr>\n",
              "      <th>3</th>\n",
              "      <td>bitcoin</td>\n",
              "      <td>2022-07-09</td>\n",
              "      <td>$417,690,286,505</td>\n",
              "      <td>$46,645,398,901</td>\n",
              "      <td>$21,859</td>\n",
              "      <td>$21,590</td>\n",
              "    </tr>\n",
              "    <tr>\n",
              "      <th>4</th>\n",
              "      <td>bitcoin</td>\n",
              "      <td>2022-07-08</td>\n",
              "      <td>$414,055,638,574</td>\n",
              "      <td>$21,927,087,503</td>\n",
              "      <td>$21,661</td>\n",
              "      <td>$21,859</td>\n",
              "    </tr>\n",
              "    <tr>\n",
              "      <th>...</th>\n",
              "      <td>...</td>\n",
              "      <td>...</td>\n",
              "      <td>...</td>\n",
              "      <td>...</td>\n",
              "      <td>...</td>\n",
              "      <td>...</td>\n",
              "    </tr>\n",
              "    <tr>\n",
              "      <th>18822</th>\n",
              "      <td>terraclassicusd</td>\n",
              "      <td>2022-01-05</td>\n",
              "      <td>$10,329,098,172</td>\n",
              "      <td>$223,862,226</td>\n",
              "      <td>$1.001</td>\n",
              "      <td>$1.003</td>\n",
              "    </tr>\n",
              "    <tr>\n",
              "      <th>18823</th>\n",
              "      <td>terraclassicusd</td>\n",
              "      <td>2022-01-04</td>\n",
              "      <td>$10,257,790,611</td>\n",
              "      <td>$158,217,004</td>\n",
              "      <td>$1.002</td>\n",
              "      <td>$1.001</td>\n",
              "    </tr>\n",
              "    <tr>\n",
              "      <th>18824</th>\n",
              "      <td>terraclassicusd</td>\n",
              "      <td>2022-01-03</td>\n",
              "      <td>$10,150,368,764</td>\n",
              "      <td>$105,447,012</td>\n",
              "      <td>$1.002</td>\n",
              "      <td>$1.002</td>\n",
              "    </tr>\n",
              "    <tr>\n",
              "      <th>18825</th>\n",
              "      <td>terraclassicusd</td>\n",
              "      <td>2022-01-02</td>\n",
              "      <td>$10,163,834,119</td>\n",
              "      <td>$143,190,915</td>\n",
              "      <td>$1.006</td>\n",
              "      <td>$1.002</td>\n",
              "    </tr>\n",
              "    <tr>\n",
              "      <th>18826</th>\n",
              "      <td>terraclassicusd</td>\n",
              "      <td>2022-01-01</td>\n",
              "      <td>$10,135,310,922</td>\n",
              "      <td>$169,797,655</td>\n",
              "      <td>$0.999271</td>\n",
              "      <td>$1.006</td>\n",
              "    </tr>\n",
              "  </tbody>\n",
              "</table>\n",
              "<p>18827 rows × 6 columns</p>\n",
              "</div>\n",
              "      <button class=\"colab-df-convert\" onclick=\"convertToInteractive('df-7b2fe228-96c7-4a6e-a00b-68f5c3da2154')\"\n",
              "              title=\"Convert this dataframe to an interactive table.\"\n",
              "              style=\"display:none;\">\n",
              "        \n",
              "  <svg xmlns=\"http://www.w3.org/2000/svg\" height=\"24px\"viewBox=\"0 0 24 24\"\n",
              "       width=\"24px\">\n",
              "    <path d=\"M0 0h24v24H0V0z\" fill=\"none\"/>\n",
              "    <path d=\"M18.56 5.44l.94 2.06.94-2.06 2.06-.94-2.06-.94-.94-2.06-.94 2.06-2.06.94zm-11 1L8.5 8.5l.94-2.06 2.06-.94-2.06-.94L8.5 2.5l-.94 2.06-2.06.94zm10 10l.94 2.06.94-2.06 2.06-.94-2.06-.94-.94-2.06-.94 2.06-2.06.94z\"/><path d=\"M17.41 7.96l-1.37-1.37c-.4-.4-.92-.59-1.43-.59-.52 0-1.04.2-1.43.59L10.3 9.45l-7.72 7.72c-.78.78-.78 2.05 0 2.83L4 21.41c.39.39.9.59 1.41.59.51 0 1.02-.2 1.41-.59l7.78-7.78 2.81-2.81c.8-.78.8-2.07 0-2.86zM5.41 20L4 18.59l7.72-7.72 1.47 1.35L5.41 20z\"/>\n",
              "  </svg>\n",
              "      </button>\n",
              "      \n",
              "  <style>\n",
              "    .colab-df-container {\n",
              "      display:flex;\n",
              "      flex-wrap:wrap;\n",
              "      gap: 12px;\n",
              "    }\n",
              "\n",
              "    .colab-df-convert {\n",
              "      background-color: #E8F0FE;\n",
              "      border: none;\n",
              "      border-radius: 50%;\n",
              "      cursor: pointer;\n",
              "      display: none;\n",
              "      fill: #1967D2;\n",
              "      height: 32px;\n",
              "      padding: 0 0 0 0;\n",
              "      width: 32px;\n",
              "    }\n",
              "\n",
              "    .colab-df-convert:hover {\n",
              "      background-color: #E2EBFA;\n",
              "      box-shadow: 0px 1px 2px rgba(60, 64, 67, 0.3), 0px 1px 3px 1px rgba(60, 64, 67, 0.15);\n",
              "      fill: #174EA6;\n",
              "    }\n",
              "\n",
              "    [theme=dark] .colab-df-convert {\n",
              "      background-color: #3B4455;\n",
              "      fill: #D2E3FC;\n",
              "    }\n",
              "\n",
              "    [theme=dark] .colab-df-convert:hover {\n",
              "      background-color: #434B5C;\n",
              "      box-shadow: 0px 1px 3px 1px rgba(0, 0, 0, 0.15);\n",
              "      filter: drop-shadow(0px 1px 2px rgba(0, 0, 0, 0.3));\n",
              "      fill: #FFFFFF;\n",
              "    }\n",
              "  </style>\n",
              "\n",
              "      <script>\n",
              "        const buttonEl =\n",
              "          document.querySelector('#df-7b2fe228-96c7-4a6e-a00b-68f5c3da2154 button.colab-df-convert');\n",
              "        buttonEl.style.display =\n",
              "          google.colab.kernel.accessAllowed ? 'block' : 'none';\n",
              "\n",
              "        async function convertToInteractive(key) {\n",
              "          const element = document.querySelector('#df-7b2fe228-96c7-4a6e-a00b-68f5c3da2154');\n",
              "          const dataTable =\n",
              "            await google.colab.kernel.invokeFunction('convertToInteractive',\n",
              "                                                     [key], {});\n",
              "          if (!dataTable) return;\n",
              "\n",
              "          const docLinkHtml = 'Like what you see? Visit the ' +\n",
              "            '<a target=\"_blank\" href=https://colab.research.google.com/notebooks/data_table.ipynb>data table notebook</a>'\n",
              "            + ' to learn more about interactive tables.';\n",
              "          element.innerHTML = '';\n",
              "          dataTable['output_type'] = 'display_data';\n",
              "          await google.colab.output.renderOutput(dataTable, element);\n",
              "          const docLink = document.createElement('div');\n",
              "          docLink.innerHTML = docLinkHtml;\n",
              "          element.appendChild(docLink);\n",
              "        }\n",
              "      </script>\n",
              "    </div>\n",
              "  </div>\n",
              "  "
            ]
          },
          "metadata": {},
          "execution_count": 137
        }
      ]
    },
    {
      "cell_type": "code",
      "source": [
        "\n",
        "\n",
        "#drop rows that contain N/A in the list\n",
        "crypto = crypto[crypto.Close != 'N/A']\n",
        "crypto"
      ],
      "metadata": {
        "colab": {
          "base_uri": "https://localhost:8080/",
          "height": 424
        },
        "id": "nYW_PuuQ77b6",
        "outputId": "41ad6068-b180-4e29-93a7-2fb41af97a76"
      },
      "execution_count": null,
      "outputs": [
        {
          "output_type": "execute_result",
          "data": {
            "text/plain": [
              "                  Coin        Date        Market cap           Volume  \\\n",
              "1              bitcoin  2022-07-11  $398,249,545,889  $25,037,950,754   \n",
              "2              bitcoin  2022-07-10  $412,459,838,738  $26,211,587,452   \n",
              "3              bitcoin  2022-07-09  $417,690,286,505  $46,645,398,901   \n",
              "4              bitcoin  2022-07-08  $414,055,638,574  $21,927,087,503   \n",
              "5              bitcoin  2022-07-07  $392,479,833,071  $21,755,499,642   \n",
              "...                ...         ...               ...              ...   \n",
              "18822  terraclassicusd  2022-01-05   $10,329,098,172     $223,862,226   \n",
              "18823  terraclassicusd  2022-01-04   $10,257,790,611     $158,217,004   \n",
              "18824  terraclassicusd  2022-01-03   $10,150,368,764     $105,447,012   \n",
              "18825  terraclassicusd  2022-01-02   $10,163,834,119     $143,190,915   \n",
              "18826  terraclassicusd  2022-01-01   $10,135,310,922     $169,797,655   \n",
              "\n",
              "            Open       Close  \n",
              "1        $20,860  $19,998.47  \n",
              "2        $21,590     $20,860  \n",
              "3        $21,859     $21,590  \n",
              "4        $21,661     $21,859  \n",
              "5        $20,567     $21,661  \n",
              "...          ...         ...  \n",
              "18822     $1.001      $1.003  \n",
              "18823     $1.002      $1.001  \n",
              "18824     $1.002      $1.002  \n",
              "18825     $1.006      $1.002  \n",
              "18826  $0.999271      $1.006  \n",
              "\n",
              "[18437 rows x 6 columns]"
            ],
            "text/html": [
              "\n",
              "  <div id=\"df-654f9d7e-8f1b-4b63-ac7c-30bf8459b05d\">\n",
              "    <div class=\"colab-df-container\">\n",
              "      <div>\n",
              "<style scoped>\n",
              "    .dataframe tbody tr th:only-of-type {\n",
              "        vertical-align: middle;\n",
              "    }\n",
              "\n",
              "    .dataframe tbody tr th {\n",
              "        vertical-align: top;\n",
              "    }\n",
              "\n",
              "    .dataframe thead th {\n",
              "        text-align: right;\n",
              "    }\n",
              "</style>\n",
              "<table border=\"1\" class=\"dataframe\">\n",
              "  <thead>\n",
              "    <tr style=\"text-align: right;\">\n",
              "      <th></th>\n",
              "      <th>Coin</th>\n",
              "      <th>Date</th>\n",
              "      <th>Market cap</th>\n",
              "      <th>Volume</th>\n",
              "      <th>Open</th>\n",
              "      <th>Close</th>\n",
              "    </tr>\n",
              "  </thead>\n",
              "  <tbody>\n",
              "    <tr>\n",
              "      <th>1</th>\n",
              "      <td>bitcoin</td>\n",
              "      <td>2022-07-11</td>\n",
              "      <td>$398,249,545,889</td>\n",
              "      <td>$25,037,950,754</td>\n",
              "      <td>$20,860</td>\n",
              "      <td>$19,998.47</td>\n",
              "    </tr>\n",
              "    <tr>\n",
              "      <th>2</th>\n",
              "      <td>bitcoin</td>\n",
              "      <td>2022-07-10</td>\n",
              "      <td>$412,459,838,738</td>\n",
              "      <td>$26,211,587,452</td>\n",
              "      <td>$21,590</td>\n",
              "      <td>$20,860</td>\n",
              "    </tr>\n",
              "    <tr>\n",
              "      <th>3</th>\n",
              "      <td>bitcoin</td>\n",
              "      <td>2022-07-09</td>\n",
              "      <td>$417,690,286,505</td>\n",
              "      <td>$46,645,398,901</td>\n",
              "      <td>$21,859</td>\n",
              "      <td>$21,590</td>\n",
              "    </tr>\n",
              "    <tr>\n",
              "      <th>4</th>\n",
              "      <td>bitcoin</td>\n",
              "      <td>2022-07-08</td>\n",
              "      <td>$414,055,638,574</td>\n",
              "      <td>$21,927,087,503</td>\n",
              "      <td>$21,661</td>\n",
              "      <td>$21,859</td>\n",
              "    </tr>\n",
              "    <tr>\n",
              "      <th>5</th>\n",
              "      <td>bitcoin</td>\n",
              "      <td>2022-07-07</td>\n",
              "      <td>$392,479,833,071</td>\n",
              "      <td>$21,755,499,642</td>\n",
              "      <td>$20,567</td>\n",
              "      <td>$21,661</td>\n",
              "    </tr>\n",
              "    <tr>\n",
              "      <th>...</th>\n",
              "      <td>...</td>\n",
              "      <td>...</td>\n",
              "      <td>...</td>\n",
              "      <td>...</td>\n",
              "      <td>...</td>\n",
              "      <td>...</td>\n",
              "    </tr>\n",
              "    <tr>\n",
              "      <th>18822</th>\n",
              "      <td>terraclassicusd</td>\n",
              "      <td>2022-01-05</td>\n",
              "      <td>$10,329,098,172</td>\n",
              "      <td>$223,862,226</td>\n",
              "      <td>$1.001</td>\n",
              "      <td>$1.003</td>\n",
              "    </tr>\n",
              "    <tr>\n",
              "      <th>18823</th>\n",
              "      <td>terraclassicusd</td>\n",
              "      <td>2022-01-04</td>\n",
              "      <td>$10,257,790,611</td>\n",
              "      <td>$158,217,004</td>\n",
              "      <td>$1.002</td>\n",
              "      <td>$1.001</td>\n",
              "    </tr>\n",
              "    <tr>\n",
              "      <th>18824</th>\n",
              "      <td>terraclassicusd</td>\n",
              "      <td>2022-01-03</td>\n",
              "      <td>$10,150,368,764</td>\n",
              "      <td>$105,447,012</td>\n",
              "      <td>$1.002</td>\n",
              "      <td>$1.002</td>\n",
              "    </tr>\n",
              "    <tr>\n",
              "      <th>18825</th>\n",
              "      <td>terraclassicusd</td>\n",
              "      <td>2022-01-02</td>\n",
              "      <td>$10,163,834,119</td>\n",
              "      <td>$143,190,915</td>\n",
              "      <td>$1.006</td>\n",
              "      <td>$1.002</td>\n",
              "    </tr>\n",
              "    <tr>\n",
              "      <th>18826</th>\n",
              "      <td>terraclassicusd</td>\n",
              "      <td>2022-01-01</td>\n",
              "      <td>$10,135,310,922</td>\n",
              "      <td>$169,797,655</td>\n",
              "      <td>$0.999271</td>\n",
              "      <td>$1.006</td>\n",
              "    </tr>\n",
              "  </tbody>\n",
              "</table>\n",
              "<p>18437 rows × 6 columns</p>\n",
              "</div>\n",
              "      <button class=\"colab-df-convert\" onclick=\"convertToInteractive('df-654f9d7e-8f1b-4b63-ac7c-30bf8459b05d')\"\n",
              "              title=\"Convert this dataframe to an interactive table.\"\n",
              "              style=\"display:none;\">\n",
              "        \n",
              "  <svg xmlns=\"http://www.w3.org/2000/svg\" height=\"24px\"viewBox=\"0 0 24 24\"\n",
              "       width=\"24px\">\n",
              "    <path d=\"M0 0h24v24H0V0z\" fill=\"none\"/>\n",
              "    <path d=\"M18.56 5.44l.94 2.06.94-2.06 2.06-.94-2.06-.94-.94-2.06-.94 2.06-2.06.94zm-11 1L8.5 8.5l.94-2.06 2.06-.94-2.06-.94L8.5 2.5l-.94 2.06-2.06.94zm10 10l.94 2.06.94-2.06 2.06-.94-2.06-.94-.94-2.06-.94 2.06-2.06.94z\"/><path d=\"M17.41 7.96l-1.37-1.37c-.4-.4-.92-.59-1.43-.59-.52 0-1.04.2-1.43.59L10.3 9.45l-7.72 7.72c-.78.78-.78 2.05 0 2.83L4 21.41c.39.39.9.59 1.41.59.51 0 1.02-.2 1.41-.59l7.78-7.78 2.81-2.81c.8-.78.8-2.07 0-2.86zM5.41 20L4 18.59l7.72-7.72 1.47 1.35L5.41 20z\"/>\n",
              "  </svg>\n",
              "      </button>\n",
              "      \n",
              "  <style>\n",
              "    .colab-df-container {\n",
              "      display:flex;\n",
              "      flex-wrap:wrap;\n",
              "      gap: 12px;\n",
              "    }\n",
              "\n",
              "    .colab-df-convert {\n",
              "      background-color: #E8F0FE;\n",
              "      border: none;\n",
              "      border-radius: 50%;\n",
              "      cursor: pointer;\n",
              "      display: none;\n",
              "      fill: #1967D2;\n",
              "      height: 32px;\n",
              "      padding: 0 0 0 0;\n",
              "      width: 32px;\n",
              "    }\n",
              "\n",
              "    .colab-df-convert:hover {\n",
              "      background-color: #E2EBFA;\n",
              "      box-shadow: 0px 1px 2px rgba(60, 64, 67, 0.3), 0px 1px 3px 1px rgba(60, 64, 67, 0.15);\n",
              "      fill: #174EA6;\n",
              "    }\n",
              "\n",
              "    [theme=dark] .colab-df-convert {\n",
              "      background-color: #3B4455;\n",
              "      fill: #D2E3FC;\n",
              "    }\n",
              "\n",
              "    [theme=dark] .colab-df-convert:hover {\n",
              "      background-color: #434B5C;\n",
              "      box-shadow: 0px 1px 3px 1px rgba(0, 0, 0, 0.15);\n",
              "      filter: drop-shadow(0px 1px 2px rgba(0, 0, 0, 0.3));\n",
              "      fill: #FFFFFF;\n",
              "    }\n",
              "  </style>\n",
              "\n",
              "      <script>\n",
              "        const buttonEl =\n",
              "          document.querySelector('#df-654f9d7e-8f1b-4b63-ac7c-30bf8459b05d button.colab-df-convert');\n",
              "        buttonEl.style.display =\n",
              "          google.colab.kernel.accessAllowed ? 'block' : 'none';\n",
              "\n",
              "        async function convertToInteractive(key) {\n",
              "          const element = document.querySelector('#df-654f9d7e-8f1b-4b63-ac7c-30bf8459b05d');\n",
              "          const dataTable =\n",
              "            await google.colab.kernel.invokeFunction('convertToInteractive',\n",
              "                                                     [key], {});\n",
              "          if (!dataTable) return;\n",
              "\n",
              "          const docLinkHtml = 'Like what you see? Visit the ' +\n",
              "            '<a target=\"_blank\" href=https://colab.research.google.com/notebooks/data_table.ipynb>data table notebook</a>'\n",
              "            + ' to learn more about interactive tables.';\n",
              "          element.innerHTML = '';\n",
              "          dataTable['output_type'] = 'display_data';\n",
              "          await google.colab.output.renderOutput(dataTable, element);\n",
              "          const docLink = document.createElement('div');\n",
              "          docLink.innerHTML = docLinkHtml;\n",
              "          element.appendChild(docLink);\n",
              "        }\n",
              "      </script>\n",
              "    </div>\n",
              "  </div>\n",
              "  "
            ]
          },
          "metadata": {},
          "execution_count": 140
        }
      ]
    },
    {
      "cell_type": "code",
      "source": [
        "crypto.to_excel('coingecko.com_100coins_historical_data.xlsx', index=False)"
      ],
      "metadata": {
        "id": "aXs4DjNlx2FP"
      },
      "execution_count": null,
      "outputs": []
    },
    {
      "cell_type": "code",
      "source": [
        ""
      ],
      "metadata": {
        "id": "AeeoDgv8x_Q0"
      },
      "execution_count": null,
      "outputs": []
    }
  ],
  "metadata": {
    "kernelspec": {
      "display_name": "Python 3",
      "language": "python",
      "name": "python3"
    },
    "language_info": {
      "codemirror_mode": {
        "name": "ipython",
        "version": 3
      },
      "file_extension": ".py",
      "mimetype": "text/x-python",
      "name": "python",
      "nbconvert_exporter": "python",
      "pygments_lexer": "ipython3",
      "version": "3.9.2"
    },
    "colab": {
      "name": "coingecko_100coins_historical_data.ipynb",
      "provenance": [],
      "collapsed_sections": []
    }
  },
  "nbformat": 4,
  "nbformat_minor": 0
}
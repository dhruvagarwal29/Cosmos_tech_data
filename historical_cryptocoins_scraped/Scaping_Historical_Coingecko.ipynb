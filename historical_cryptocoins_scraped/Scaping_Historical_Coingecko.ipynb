{
  "cells": [
    {
      "cell_type": "markdown",
      "metadata": {
        "id": "oIUE4jGzFFZF"
      },
      "source": [
        "### Imports"
      ]
    },
    {
      "cell_type": "code",
      "execution_count": 1,
      "metadata": {
        "id": "dcQbO6nxFFZH"
      },
      "outputs": [],
      "source": [
        "from bs4 import BeautifulSoup\n",
        "import requests\n",
        "import pandas as pd "
      ]
    },
    {
      "cell_type": "markdown",
      "metadata": {
        "id": "S6YO4qrOFFZI"
      },
      "source": [
        "### HTTP Request"
      ]
    },
    {
      "cell_type": "markdown",
      "metadata": {
        "id": "enkw1zHdFFZI"
      },
      "source": [
        "#### store website in variable"
      ]
    },
    {
      "cell_type": "code",
      "execution_count": 2,
      "metadata": {
        "id": "5QfXr3MjFFZJ"
      },
      "outputs": [],
      "source": [
        "ua = {\"User-Agent\":\"Mozilla/5.0 (Windows NT 10.0; Win64; x64) AppleWebKit/537.36 (KHTML, like Gecko) Chrome/92.0.4515.107 Safari/537.36 Edg/92.0.902.62\"}"
      ]
    },
    {
      "cell_type": "code",
      "execution_count": 3,
      "metadata": {
        "id": "IaUht7YOFFZJ"
      },
      "outputs": [],
      "source": [
        "website = 'https://www.coingecko.com/en/coins/bitcoin/historical_data?start_date=2022-01-01&end_date=2022-07-07#panel'"
      ]
    },
    {
      "cell_type": "markdown",
      "metadata": {
        "id": "9EuyJ6qaFFZJ"
      },
      "source": [
        "#### Get Request"
      ]
    },
    {
      "cell_type": "code",
      "execution_count": 4,
      "metadata": {
        "id": "IfvpuPQMFFZK"
      },
      "outputs": [],
      "source": [
        "response = requests.get(website)"
      ]
    },
    {
      "cell_type": "markdown",
      "metadata": {
        "id": "5ZBMaoxlFFZK"
      },
      "source": [
        "#### Status Code"
      ]
    },
    {
      "cell_type": "code",
      "execution_count": 5,
      "metadata": {
        "id": "WrGoxBrBFFZK",
        "outputId": "500c94e9-d09f-450e-a573-001bcc0fb3d5",
        "colab": {
          "base_uri": "https://localhost:8080/"
        }
      },
      "outputs": [
        {
          "output_type": "execute_result",
          "data": {
            "text/plain": [
              "200"
            ]
          },
          "metadata": {},
          "execution_count": 5
        }
      ],
      "source": [
        "response.status_code"
      ]
    },
    {
      "cell_type": "markdown",
      "metadata": {
        "id": "P62_c2o_FFZL"
      },
      "source": [
        "### Soup Object"
      ]
    },
    {
      "cell_type": "code",
      "execution_count": 6,
      "metadata": {
        "id": "e-5_IIWjFFZM"
      },
      "outputs": [],
      "source": [
        "soup = BeautifulSoup(response.content, 'html.parser')"
      ]
    },
    {
      "cell_type": "markdown",
      "metadata": {
        "id": "8GUXVgowFFZM"
      },
      "source": [
        "### Results"
      ]
    },
    {
      "cell_type": "code",
      "execution_count": 8,
      "metadata": {
        "id": "yxHPjxZdFFZM"
      },
      "outputs": [],
      "source": [
        "results = soup.find('table', {'class':'table table-striped text-sm text-lg-normal'}).find('tbody').find_all('tr')"
      ]
    },
    {
      "cell_type": "code",
      "execution_count": 9,
      "metadata": {
        "id": "t_PvKqA-FFZM",
        "outputId": "7f4f69a7-b1fd-49c7-d82c-96258b2b4df9",
        "colab": {
          "base_uri": "https://localhost:8080/"
        }
      },
      "outputs": [
        {
          "output_type": "execute_result",
          "data": {
            "text/plain": [
              "60"
            ]
          },
          "metadata": {},
          "execution_count": 9
        }
      ],
      "source": [
        "len(results)"
      ]
    },
    {
      "cell_type": "code",
      "execution_count": 10,
      "metadata": {
        "id": "u8kstMjsFFZM",
        "outputId": "131d0a5a-8b95-4506-ee09-0d0f21d3365b",
        "colab": {
          "base_uri": "https://localhost:8080/"
        }
      },
      "outputs": [
        {
          "output_type": "execute_result",
          "data": {
            "text/plain": [
              "<tr>\n",
              "<th class=\"font-semibold text-center\" scope=\"row\">2022-07-07</th>\n",
              "<td class=\"text-center\">\n",
              "$392,479,833,071\n",
              "</td>\n",
              "<td class=\"text-center\">\n",
              "$21,755,499,642\n",
              "</td>\n",
              "<td class=\"text-center\">\n",
              "$20,567\n",
              "</td>\n",
              "<td class=\"text-center\">\n",
              "N/A\n",
              "</td>\n",
              "</tr>"
            ]
          },
          "metadata": {},
          "execution_count": 10
        }
      ],
      "source": [
        "results[0]"
      ]
    },
    {
      "cell_type": "markdown",
      "metadata": {
        "id": "9grk5yoiFFZN"
      },
      "source": [
        "### Target necessary data"
      ]
    },
    {
      "cell_type": "code",
      "execution_count": 11,
      "metadata": {
        "id": "6Xv-O73AFFZN"
      },
      "outputs": [],
      "source": [
        "# Date\n",
        "# Market Cap\n",
        "# Volume\n",
        "# Open\n",
        "# Close"
      ]
    },
    {
      "cell_type": "markdown",
      "metadata": {
        "id": "wybWDDK1FFZN"
      },
      "source": [
        "#### Name"
      ]
    },
    {
      "cell_type": "code",
      "execution_count": 12,
      "metadata": {
        "id": "_nTUyC-7FFZN",
        "outputId": "1af01c18-baed-4059-c3c5-b9ad3183e66f",
        "colab": {
          "base_uri": "https://localhost:8080/",
          "height": 35
        }
      },
      "outputs": [
        {
          "output_type": "execute_result",
          "data": {
            "text/plain": [
              "'2022-07-07'"
            ],
            "application/vnd.google.colaboratory.intrinsic+json": {
              "type": "string"
            }
          },
          "metadata": {},
          "execution_count": 12
        }
      ],
      "source": [
        "results[0].find('th', {'class':'font-semibold text-center'}).get_text().strip()"
      ]
    },
    {
      "cell_type": "markdown",
      "metadata": {
        "id": "RdsD15HUFFZO"
      },
      "source": [
        "#### Price"
      ]
    },
    {
      "cell_type": "code",
      "execution_count": 24,
      "metadata": {
        "id": "fKOXq44MFFZO",
        "outputId": "d4108c4f-ff8e-43ac-b776-64ab8d40fb5e",
        "colab": {
          "base_uri": "https://localhost:8080/",
          "height": 35
        }
      },
      "outputs": [
        {
          "output_type": "execute_result",
          "data": {
            "text/plain": [
              "'$392,479,833,071'"
            ],
            "application/vnd.google.colaboratory.intrinsic+json": {
              "type": "string"
            }
          },
          "metadata": {},
          "execution_count": 24
        }
      ],
      "source": [
        "results[0].find('td', {'class':'text-center'}).get_text().strip()"
      ]
    },
    {
      "cell_type": "markdown",
      "metadata": {
        "id": "O-z3RhzHFFZO"
      },
      "source": [
        "#### 1h Change"
      ]
    },
    {
      "cell_type": "code",
      "execution_count": 29,
      "metadata": {
        "id": "_hCUljeqFFZO",
        "outputId": "f019372f-a8f7-444a-eb95-bb568f68932d",
        "colab": {
          "base_uri": "https://localhost:8080/"
        }
      },
      "outputs": [
        {
          "output_type": "stream",
          "name": "stdout",
          "text": [
            "$392,479,833,071\n",
            "$21,755,499,642\n",
            "$20,567\n",
            "N/A\n"
          ]
        }
      ],
      "source": [
        "headings = []\n",
        "for td in results[0].find_all(\"td\"):\n",
        "    # remove any newlines and extra spaces from left and right\n",
        "    headings.append(td.text.replace('\\n', ' ').strip())\n",
        "\n",
        "print(headings[0])\n",
        "print(headings[1])\n",
        "print(headings[2])\n",
        "print(headings[3])\n"
      ]
    },
    {
      "cell_type": "code",
      "source": [
        ""
      ],
      "metadata": {
        "id": "OJFTGqfdshSJ"
      },
      "execution_count": null,
      "outputs": []
    },
    {
      "cell_type": "markdown",
      "metadata": {
        "id": "NV2gL2_6FFZO"
      },
      "source": [
        "#### 24h Change"
      ]
    },
    {
      "cell_type": "code",
      "execution_count": null,
      "metadata": {
        "id": "1v08WJSXFFZO",
        "outputId": "0a5df2aa-0992-45a8-c9c5-61154bad4315",
        "colab": {
          "base_uri": "https://localhost:8080/",
          "height": 35
        }
      },
      "outputs": [
        {
          "output_type": "execute_result",
          "data": {
            "text/plain": [
              "'1.3%'"
            ],
            "application/vnd.google.colaboratory.intrinsic+json": {
              "type": "string"
            }
          },
          "metadata": {},
          "execution_count": 31
        }
      ],
      "source": [
        "results[0].find('td', {'class':'td-change24h'}).get_text().strip()"
      ]
    },
    {
      "cell_type": "markdown",
      "metadata": {
        "id": "O2j7z8SGFFZO"
      },
      "source": [
        "#### 7 day change"
      ]
    },
    {
      "cell_type": "code",
      "execution_count": null,
      "metadata": {
        "id": "Ayy9JDNAFFZO",
        "outputId": "92f0c7f9-d88d-4e03-90b6-0ed1b2eb7e0e",
        "colab": {
          "base_uri": "https://localhost:8080/",
          "height": 35
        }
      },
      "outputs": [
        {
          "output_type": "execute_result",
          "data": {
            "text/plain": [
              "'-4.7%'"
            ],
            "application/vnd.google.colaboratory.intrinsic+json": {
              "type": "string"
            }
          },
          "metadata": {},
          "execution_count": 32
        }
      ],
      "source": [
        "results[0].find('td', {'class':'td-change7d'}).get_text().strip()"
      ]
    },
    {
      "cell_type": "markdown",
      "metadata": {
        "id": "bJ52APIPFFZP"
      },
      "source": [
        "#### 24h Volume"
      ]
    },
    {
      "cell_type": "code",
      "execution_count": null,
      "metadata": {
        "id": "Dy1cOzPRFFZP",
        "outputId": "412cc545-1b4a-4001-a166-46e3f8dfa69e",
        "colab": {
          "base_uri": "https://localhost:8080/",
          "height": 35
        }
      },
      "outputs": [
        {
          "output_type": "execute_result",
          "data": {
            "text/plain": [
              "'$53,602,942,487'"
            ],
            "application/vnd.google.colaboratory.intrinsic+json": {
              "type": "string"
            }
          },
          "metadata": {},
          "execution_count": 33
        }
      ],
      "source": [
        "results[2].find('td', {'class':'td-liquidity_score'}).get_text().strip()"
      ]
    },
    {
      "cell_type": "markdown",
      "metadata": {
        "id": "-xSo1Kx7FFZP"
      },
      "source": [
        "#### Market Cap"
      ]
    },
    {
      "cell_type": "code",
      "execution_count": null,
      "metadata": {
        "id": "7xP3xT20FFZP",
        "outputId": "586b89b9-d3c1-4e67-9efc-f00dfb991b13",
        "colab": {
          "base_uri": "https://localhost:8080/",
          "height": 35
        }
      },
      "outputs": [
        {
          "output_type": "execute_result",
          "data": {
            "text/plain": [
              "'$376,957,052,654'"
            ],
            "application/vnd.google.colaboratory.intrinsic+json": {
              "type": "string"
            }
          },
          "metadata": {},
          "execution_count": 34
        }
      ],
      "source": [
        "results[0].find('td', {'class':'td-market_cap'}).get_text().strip()"
      ]
    },
    {
      "cell_type": "code",
      "execution_count": null,
      "metadata": {
        "id": "Nqx6OUceFFZP"
      },
      "outputs": [],
      "source": [
        ""
      ]
    },
    {
      "cell_type": "markdown",
      "metadata": {
        "id": "u7GpqlhSFFZP"
      },
      "source": [
        "### Put everything together inside a For-Loop"
      ]
    },
    {
      "cell_type": "code",
      "execution_count": 31,
      "metadata": {
        "id": "x9qtMz28FFZP"
      },
      "outputs": [],
      "source": [
        "date = []\n",
        "market_cap = []\n",
        "volume = []\n",
        "open = []\n",
        "close = []\n",
        "\n",
        "for result in results:\n",
        "    \n",
        "    # date\n",
        "    try:\n",
        "        date.append(result.find('th', {'class':'font-semibold text-center'}).get_text().strip()) \n",
        "    except:\n",
        "        date.append('n/a')\n",
        "    headings = []\n",
        "    for td in result.find_all(\"td\"):\n",
        "        # remove any newlines and extra spaces from left and right\n",
        "        headings.append(td.text.replace('\\n', ' ').strip())\n",
        "\n",
        "        #print(headings[0])\n",
        "        #print(headings[1])\n",
        "        #print(headings[2])\n",
        "        #print(headings[3])\n",
        "    #  market cap \n",
        "    try:\n",
        "      market_cap.append(headings[0])\n",
        "    except:\n",
        "      market_cap.append('n/a')\n",
        "    # volume\n",
        "    try:\n",
        "        volume.append(headings[1])\n",
        "    except:\n",
        "        volume.append('n/a')\n",
        "    \n",
        "    # open\n",
        "    try:\n",
        "        open.append(headings[2])\n",
        "    except:\n",
        "        open.append('n/a')\n",
        "        \n",
        "    # close\n",
        "    try:\n",
        "        close.append(headings[3])\n",
        "    except:\n",
        "        close.append('n/a')\n",
        "    \n",
        "  "
      ]
    },
    {
      "cell_type": "markdown",
      "metadata": {
        "id": "UGR01GCWFFZQ"
      },
      "source": [
        "### Create Pandas Dataframe"
      ]
    },
    {
      "cell_type": "code",
      "execution_count": 32,
      "metadata": {
        "id": "bFnBNhAiFFZQ"
      },
      "outputs": [],
      "source": [
        "# create dataframe\n",
        "crypto = pd.DataFrame({'Coin': 'Bitcoin', 'Date':date, 'Market cap':market_cap,\n",
        "                                'Volume': volume, 'Open': open, 'Close': close,})"
      ]
    },
    {
      "cell_type": "markdown",
      "source": [
        ""
      ],
      "metadata": {
        "id": "vc1JcpTNxwa_"
      }
    },
    {
      "cell_type": "code",
      "execution_count": 33,
      "metadata": {
        "id": "l-phPl-OFFZQ",
        "outputId": "d0686fe7-a4d2-43f7-9f88-7090c9d4b2a6",
        "colab": {
          "base_uri": "https://localhost:8080/",
          "height": 1000
        }
      },
      "outputs": [
        {
          "output_type": "execute_result",
          "data": {
            "text/plain": [
              "       Coin        Date        Market cap           Volume        Open  \\\n",
              "0   Bitcoin  2022-07-07  $392,479,833,071  $21,755,499,642     $20,567   \n",
              "1   Bitcoin  2022-07-06  $385,301,783,066  $23,623,270,106     $20,189   \n",
              "2   Bitcoin  2022-07-05  $386,425,176,263  $18,634,860,046     $20,257   \n",
              "3   Bitcoin  2022-07-04  $368,549,364,135  $13,976,969,844  $19,310.23   \n",
              "4   Bitcoin  2022-07-03  $367,706,689,138  $15,601,715,001  $19,268.23   \n",
              "5   Bitcoin  2022-07-02  $370,916,529,919  $28,756,781,115  $19,407.45   \n",
              "6   Bitcoin  2022-07-01  $365,984,224,323  $22,816,515,395  $19,608.40   \n",
              "7   Bitcoin  2022-06-30  $384,067,866,466  $20,744,333,507     $20,109   \n",
              "8   Bitcoin  2022-06-29  $386,606,940,573  $18,161,209,601     $20,283   \n",
              "9   Bitcoin  2022-06-28  $395,914,576,106  $17,719,011,288     $20,751   \n",
              "10  Bitcoin  2022-06-27  $401,645,800,330  $15,392,697,878     $21,053   \n",
              "11  Bitcoin  2022-06-26  $410,110,791,491  $16,152,442,749     $21,526   \n",
              "12  Bitcoin  2022-06-25  $407,086,114,490  $21,955,656,696     $21,263   \n",
              "13  Bitcoin  2022-06-24  $402,495,826,231  $23,655,104,387     $21,100   \n",
              "14  Bitcoin  2022-06-23  $381,616,262,301  $24,955,466,738  $19,983.57   \n",
              "15  Bitcoin  2022-06-22  $395,059,669,321  $25,340,643,363     $20,701   \n",
              "16  Bitcoin  2022-06-21  $392,793,374,516  $28,346,447,997     $20,637   \n",
              "17  Bitcoin  2022-06-20  $390,555,374,757  $32,488,136,326     $20,516   \n",
              "18  Bitcoin  2022-06-19  $362,303,884,192  $38,920,632,524  $19,047.42   \n",
              "19  Bitcoin  2022-06-18  $391,441,740,414  $24,232,922,585     $20,473   \n",
              "20  Bitcoin  2022-06-17  $389,181,727,346  $27,449,277,946     $20,409   \n",
              "21  Bitcoin  2022-06-16  $429,887,916,885  $52,027,211,447     $22,529   \n",
              "22  Bitcoin  2022-06-15  $423,044,474,597  $47,639,470,968     $22,245   \n",
              "23  Bitcoin  2022-06-14  $429,492,202,561  $64,852,526,179     $22,526   \n",
              "24  Bitcoin  2022-06-13  $514,202,090,511  $29,834,061,116     $26,767   \n",
              "25  Bitcoin  2022-06-12  $540,789,214,974  $22,518,366,770     $28,374   \n",
              "26  Bitcoin  2022-06-11  $554,622,874,799  $25,663,085,729     $29,101   \n",
              "27  Bitcoin  2022-06-10  $573,819,802,895  $18,871,591,862     $30,101   \n",
              "28  Bitcoin  2022-06-09  $576,238,781,341  $27,080,284,929     $30,229   \n",
              "29  Bitcoin  2022-06-08  $597,205,650,753  $36,111,325,508     $31,265   \n",
              "30  Bitcoin  2022-06-07  $597,966,736,177  $27,644,798,123     $31,373   \n",
              "31  Bitcoin  2022-06-06  $570,209,935,092  $13,395,229,055     $29,918   \n",
              "32  Bitcoin  2022-06-05  $568,340,135,127  $12,911,383,482     $29,872   \n",
              "33  Bitcoin  2022-06-04  $566,275,595,800  $21,997,859,591     $29,714   \n",
              "34  Bitcoin  2022-06-03  $580,863,150,152  $24,232,399,986     $30,481   \n",
              "35  Bitcoin  2022-06-02  $569,001,624,438  $35,553,330,792     $29,833   \n",
              "36  Bitcoin  2022-06-01  $607,393,396,319  $29,770,567,353     $31,866   \n",
              "37  Bitcoin  2022-05-31  $604,926,607,441  $34,891,305,295     $31,741   \n",
              "38  Bitcoin  2022-05-30  $561,771,345,709  $14,496,111,398     $29,493   \n",
              "39  Bitcoin  2022-05-29  $554,938,694,217  $15,406,515,373     $29,088   \n",
              "40  Bitcoin  2022-05-28  $545,752,899,522  $31,756,305,901     $28,647   \n",
              "41  Bitcoin  2022-05-27  $559,066,076,344  $31,972,044,692     $29,347   \n",
              "42  Bitcoin  2022-05-26  $563,577,022,958  $23,108,764,916     $29,585   \n",
              "43  Bitcoin  2022-05-25  $564,885,248,022  $23,486,436,837     $29,655   \n",
              "44  Bitcoin  2022-05-24  $555,459,414,424  $26,646,754,325     $29,163   \n",
              "45  Bitcoin  2022-05-23  $578,090,387,085  $17,199,930,155     $30,351   \n",
              "46  Bitcoin  2022-05-22  $561,696,351,559  $13,561,006,428     $29,492   \n",
              "47  Bitcoin  2022-05-21  $557,201,657,281  $25,980,877,920     $29,257   \n",
              "48  Bitcoin  2022-05-20  $578,678,245,848  $29,190,056,577     $30,382   \n",
              "49  Bitcoin  2022-05-19  $547,927,169,401  $26,219,431,165     $28,772   \n",
              "50  Bitcoin  2022-05-18  $581,272,773,176  $24,964,703,224     $30,502   \n",
              "51  Bitcoin  2022-05-17  $569,801,943,005  $28,418,179,221     $29,924   \n",
              "52  Bitcoin  2022-05-16  $596,346,266,889  $22,948,123,704     $31,319   \n",
              "53  Bitcoin  2022-05-15  $573,777,699,744  $25,759,546,764     $30,189   \n",
              "54  Bitcoin  2022-05-14  $558,053,182,541  $71,541,696,924     $29,311   \n",
              "55  Bitcoin  2022-05-13  $555,266,177,877  $61,338,080,284     $29,126   \n",
              "56  Bitcoin  2022-05-12  $549,294,001,873  $65,985,702,702     $28,913   \n",
              "57  Bitcoin  2022-05-11  $590,644,412,747  $54,071,363,210     $31,027   \n",
              "58  Bitcoin  2022-05-10  $576,197,842,488  $58,369,928,594     $30,270   \n",
              "59  Bitcoin  2022-05-09  $648,514,321,642  $30,810,576,502     $34,070   \n",
              "\n",
              "         Close  \n",
              "0          N/A  \n",
              "1      $20,567  \n",
              "2      $20,189  \n",
              "3      $20,257  \n",
              "4   $19,310.23  \n",
              "5   $19,268.23  \n",
              "6   $19,407.45  \n",
              "7   $19,608.40  \n",
              "8      $20,109  \n",
              "9      $20,283  \n",
              "10     $20,751  \n",
              "11     $21,053  \n",
              "12     $21,526  \n",
              "13     $21,263  \n",
              "14     $21,100  \n",
              "15  $19,983.57  \n",
              "16     $20,701  \n",
              "17     $20,637  \n",
              "18     $20,516  \n",
              "19  $19,047.42  \n",
              "20     $20,473  \n",
              "21     $20,409  \n",
              "22     $22,529  \n",
              "23     $22,245  \n",
              "24     $22,526  \n",
              "25     $26,767  \n",
              "26     $28,374  \n",
              "27     $29,101  \n",
              "28     $30,101  \n",
              "29     $30,229  \n",
              "30     $31,265  \n",
              "31     $31,373  \n",
              "32     $29,918  \n",
              "33     $29,872  \n",
              "34     $29,714  \n",
              "35     $30,481  \n",
              "36     $29,833  \n",
              "37     $31,866  \n",
              "38     $31,741  \n",
              "39     $29,493  \n",
              "40     $29,088  \n",
              "41     $28,647  \n",
              "42     $29,347  \n",
              "43     $29,585  \n",
              "44     $29,655  \n",
              "45     $29,163  \n",
              "46     $30,351  \n",
              "47     $29,492  \n",
              "48     $29,257  \n",
              "49     $30,382  \n",
              "50     $28,772  \n",
              "51     $30,502  \n",
              "52     $29,924  \n",
              "53     $31,319  \n",
              "54     $30,189  \n",
              "55     $29,311  \n",
              "56     $29,126  \n",
              "57     $28,913  \n",
              "58     $31,027  \n",
              "59     $30,270  "
            ],
            "text/html": [
              "\n",
              "  <div id=\"df-3e0ad4cd-41b7-4000-a519-8fbe51af294f\">\n",
              "    <div class=\"colab-df-container\">\n",
              "      <div>\n",
              "<style scoped>\n",
              "    .dataframe tbody tr th:only-of-type {\n",
              "        vertical-align: middle;\n",
              "    }\n",
              "\n",
              "    .dataframe tbody tr th {\n",
              "        vertical-align: top;\n",
              "    }\n",
              "\n",
              "    .dataframe thead th {\n",
              "        text-align: right;\n",
              "    }\n",
              "</style>\n",
              "<table border=\"1\" class=\"dataframe\">\n",
              "  <thead>\n",
              "    <tr style=\"text-align: right;\">\n",
              "      <th></th>\n",
              "      <th>Coin</th>\n",
              "      <th>Date</th>\n",
              "      <th>Market cap</th>\n",
              "      <th>Volume</th>\n",
              "      <th>Open</th>\n",
              "      <th>Close</th>\n",
              "    </tr>\n",
              "  </thead>\n",
              "  <tbody>\n",
              "    <tr>\n",
              "      <th>0</th>\n",
              "      <td>Bitcoin</td>\n",
              "      <td>2022-07-07</td>\n",
              "      <td>$392,479,833,071</td>\n",
              "      <td>$21,755,499,642</td>\n",
              "      <td>$20,567</td>\n",
              "      <td>N/A</td>\n",
              "    </tr>\n",
              "    <tr>\n",
              "      <th>1</th>\n",
              "      <td>Bitcoin</td>\n",
              "      <td>2022-07-06</td>\n",
              "      <td>$385,301,783,066</td>\n",
              "      <td>$23,623,270,106</td>\n",
              "      <td>$20,189</td>\n",
              "      <td>$20,567</td>\n",
              "    </tr>\n",
              "    <tr>\n",
              "      <th>2</th>\n",
              "      <td>Bitcoin</td>\n",
              "      <td>2022-07-05</td>\n",
              "      <td>$386,425,176,263</td>\n",
              "      <td>$18,634,860,046</td>\n",
              "      <td>$20,257</td>\n",
              "      <td>$20,189</td>\n",
              "    </tr>\n",
              "    <tr>\n",
              "      <th>3</th>\n",
              "      <td>Bitcoin</td>\n",
              "      <td>2022-07-04</td>\n",
              "      <td>$368,549,364,135</td>\n",
              "      <td>$13,976,969,844</td>\n",
              "      <td>$19,310.23</td>\n",
              "      <td>$20,257</td>\n",
              "    </tr>\n",
              "    <tr>\n",
              "      <th>4</th>\n",
              "      <td>Bitcoin</td>\n",
              "      <td>2022-07-03</td>\n",
              "      <td>$367,706,689,138</td>\n",
              "      <td>$15,601,715,001</td>\n",
              "      <td>$19,268.23</td>\n",
              "      <td>$19,310.23</td>\n",
              "    </tr>\n",
              "    <tr>\n",
              "      <th>5</th>\n",
              "      <td>Bitcoin</td>\n",
              "      <td>2022-07-02</td>\n",
              "      <td>$370,916,529,919</td>\n",
              "      <td>$28,756,781,115</td>\n",
              "      <td>$19,407.45</td>\n",
              "      <td>$19,268.23</td>\n",
              "    </tr>\n",
              "    <tr>\n",
              "      <th>6</th>\n",
              "      <td>Bitcoin</td>\n",
              "      <td>2022-07-01</td>\n",
              "      <td>$365,984,224,323</td>\n",
              "      <td>$22,816,515,395</td>\n",
              "      <td>$19,608.40</td>\n",
              "      <td>$19,407.45</td>\n",
              "    </tr>\n",
              "    <tr>\n",
              "      <th>7</th>\n",
              "      <td>Bitcoin</td>\n",
              "      <td>2022-06-30</td>\n",
              "      <td>$384,067,866,466</td>\n",
              "      <td>$20,744,333,507</td>\n",
              "      <td>$20,109</td>\n",
              "      <td>$19,608.40</td>\n",
              "    </tr>\n",
              "    <tr>\n",
              "      <th>8</th>\n",
              "      <td>Bitcoin</td>\n",
              "      <td>2022-06-29</td>\n",
              "      <td>$386,606,940,573</td>\n",
              "      <td>$18,161,209,601</td>\n",
              "      <td>$20,283</td>\n",
              "      <td>$20,109</td>\n",
              "    </tr>\n",
              "    <tr>\n",
              "      <th>9</th>\n",
              "      <td>Bitcoin</td>\n",
              "      <td>2022-06-28</td>\n",
              "      <td>$395,914,576,106</td>\n",
              "      <td>$17,719,011,288</td>\n",
              "      <td>$20,751</td>\n",
              "      <td>$20,283</td>\n",
              "    </tr>\n",
              "    <tr>\n",
              "      <th>10</th>\n",
              "      <td>Bitcoin</td>\n",
              "      <td>2022-06-27</td>\n",
              "      <td>$401,645,800,330</td>\n",
              "      <td>$15,392,697,878</td>\n",
              "      <td>$21,053</td>\n",
              "      <td>$20,751</td>\n",
              "    </tr>\n",
              "    <tr>\n",
              "      <th>11</th>\n",
              "      <td>Bitcoin</td>\n",
              "      <td>2022-06-26</td>\n",
              "      <td>$410,110,791,491</td>\n",
              "      <td>$16,152,442,749</td>\n",
              "      <td>$21,526</td>\n",
              "      <td>$21,053</td>\n",
              "    </tr>\n",
              "    <tr>\n",
              "      <th>12</th>\n",
              "      <td>Bitcoin</td>\n",
              "      <td>2022-06-25</td>\n",
              "      <td>$407,086,114,490</td>\n",
              "      <td>$21,955,656,696</td>\n",
              "      <td>$21,263</td>\n",
              "      <td>$21,526</td>\n",
              "    </tr>\n",
              "    <tr>\n",
              "      <th>13</th>\n",
              "      <td>Bitcoin</td>\n",
              "      <td>2022-06-24</td>\n",
              "      <td>$402,495,826,231</td>\n",
              "      <td>$23,655,104,387</td>\n",
              "      <td>$21,100</td>\n",
              "      <td>$21,263</td>\n",
              "    </tr>\n",
              "    <tr>\n",
              "      <th>14</th>\n",
              "      <td>Bitcoin</td>\n",
              "      <td>2022-06-23</td>\n",
              "      <td>$381,616,262,301</td>\n",
              "      <td>$24,955,466,738</td>\n",
              "      <td>$19,983.57</td>\n",
              "      <td>$21,100</td>\n",
              "    </tr>\n",
              "    <tr>\n",
              "      <th>15</th>\n",
              "      <td>Bitcoin</td>\n",
              "      <td>2022-06-22</td>\n",
              "      <td>$395,059,669,321</td>\n",
              "      <td>$25,340,643,363</td>\n",
              "      <td>$20,701</td>\n",
              "      <td>$19,983.57</td>\n",
              "    </tr>\n",
              "    <tr>\n",
              "      <th>16</th>\n",
              "      <td>Bitcoin</td>\n",
              "      <td>2022-06-21</td>\n",
              "      <td>$392,793,374,516</td>\n",
              "      <td>$28,346,447,997</td>\n",
              "      <td>$20,637</td>\n",
              "      <td>$20,701</td>\n",
              "    </tr>\n",
              "    <tr>\n",
              "      <th>17</th>\n",
              "      <td>Bitcoin</td>\n",
              "      <td>2022-06-20</td>\n",
              "      <td>$390,555,374,757</td>\n",
              "      <td>$32,488,136,326</td>\n",
              "      <td>$20,516</td>\n",
              "      <td>$20,637</td>\n",
              "    </tr>\n",
              "    <tr>\n",
              "      <th>18</th>\n",
              "      <td>Bitcoin</td>\n",
              "      <td>2022-06-19</td>\n",
              "      <td>$362,303,884,192</td>\n",
              "      <td>$38,920,632,524</td>\n",
              "      <td>$19,047.42</td>\n",
              "      <td>$20,516</td>\n",
              "    </tr>\n",
              "    <tr>\n",
              "      <th>19</th>\n",
              "      <td>Bitcoin</td>\n",
              "      <td>2022-06-18</td>\n",
              "      <td>$391,441,740,414</td>\n",
              "      <td>$24,232,922,585</td>\n",
              "      <td>$20,473</td>\n",
              "      <td>$19,047.42</td>\n",
              "    </tr>\n",
              "    <tr>\n",
              "      <th>20</th>\n",
              "      <td>Bitcoin</td>\n",
              "      <td>2022-06-17</td>\n",
              "      <td>$389,181,727,346</td>\n",
              "      <td>$27,449,277,946</td>\n",
              "      <td>$20,409</td>\n",
              "      <td>$20,473</td>\n",
              "    </tr>\n",
              "    <tr>\n",
              "      <th>21</th>\n",
              "      <td>Bitcoin</td>\n",
              "      <td>2022-06-16</td>\n",
              "      <td>$429,887,916,885</td>\n",
              "      <td>$52,027,211,447</td>\n",
              "      <td>$22,529</td>\n",
              "      <td>$20,409</td>\n",
              "    </tr>\n",
              "    <tr>\n",
              "      <th>22</th>\n",
              "      <td>Bitcoin</td>\n",
              "      <td>2022-06-15</td>\n",
              "      <td>$423,044,474,597</td>\n",
              "      <td>$47,639,470,968</td>\n",
              "      <td>$22,245</td>\n",
              "      <td>$22,529</td>\n",
              "    </tr>\n",
              "    <tr>\n",
              "      <th>23</th>\n",
              "      <td>Bitcoin</td>\n",
              "      <td>2022-06-14</td>\n",
              "      <td>$429,492,202,561</td>\n",
              "      <td>$64,852,526,179</td>\n",
              "      <td>$22,526</td>\n",
              "      <td>$22,245</td>\n",
              "    </tr>\n",
              "    <tr>\n",
              "      <th>24</th>\n",
              "      <td>Bitcoin</td>\n",
              "      <td>2022-06-13</td>\n",
              "      <td>$514,202,090,511</td>\n",
              "      <td>$29,834,061,116</td>\n",
              "      <td>$26,767</td>\n",
              "      <td>$22,526</td>\n",
              "    </tr>\n",
              "    <tr>\n",
              "      <th>25</th>\n",
              "      <td>Bitcoin</td>\n",
              "      <td>2022-06-12</td>\n",
              "      <td>$540,789,214,974</td>\n",
              "      <td>$22,518,366,770</td>\n",
              "      <td>$28,374</td>\n",
              "      <td>$26,767</td>\n",
              "    </tr>\n",
              "    <tr>\n",
              "      <th>26</th>\n",
              "      <td>Bitcoin</td>\n",
              "      <td>2022-06-11</td>\n",
              "      <td>$554,622,874,799</td>\n",
              "      <td>$25,663,085,729</td>\n",
              "      <td>$29,101</td>\n",
              "      <td>$28,374</td>\n",
              "    </tr>\n",
              "    <tr>\n",
              "      <th>27</th>\n",
              "      <td>Bitcoin</td>\n",
              "      <td>2022-06-10</td>\n",
              "      <td>$573,819,802,895</td>\n",
              "      <td>$18,871,591,862</td>\n",
              "      <td>$30,101</td>\n",
              "      <td>$29,101</td>\n",
              "    </tr>\n",
              "    <tr>\n",
              "      <th>28</th>\n",
              "      <td>Bitcoin</td>\n",
              "      <td>2022-06-09</td>\n",
              "      <td>$576,238,781,341</td>\n",
              "      <td>$27,080,284,929</td>\n",
              "      <td>$30,229</td>\n",
              "      <td>$30,101</td>\n",
              "    </tr>\n",
              "    <tr>\n",
              "      <th>29</th>\n",
              "      <td>Bitcoin</td>\n",
              "      <td>2022-06-08</td>\n",
              "      <td>$597,205,650,753</td>\n",
              "      <td>$36,111,325,508</td>\n",
              "      <td>$31,265</td>\n",
              "      <td>$30,229</td>\n",
              "    </tr>\n",
              "    <tr>\n",
              "      <th>30</th>\n",
              "      <td>Bitcoin</td>\n",
              "      <td>2022-06-07</td>\n",
              "      <td>$597,966,736,177</td>\n",
              "      <td>$27,644,798,123</td>\n",
              "      <td>$31,373</td>\n",
              "      <td>$31,265</td>\n",
              "    </tr>\n",
              "    <tr>\n",
              "      <th>31</th>\n",
              "      <td>Bitcoin</td>\n",
              "      <td>2022-06-06</td>\n",
              "      <td>$570,209,935,092</td>\n",
              "      <td>$13,395,229,055</td>\n",
              "      <td>$29,918</td>\n",
              "      <td>$31,373</td>\n",
              "    </tr>\n",
              "    <tr>\n",
              "      <th>32</th>\n",
              "      <td>Bitcoin</td>\n",
              "      <td>2022-06-05</td>\n",
              "      <td>$568,340,135,127</td>\n",
              "      <td>$12,911,383,482</td>\n",
              "      <td>$29,872</td>\n",
              "      <td>$29,918</td>\n",
              "    </tr>\n",
              "    <tr>\n",
              "      <th>33</th>\n",
              "      <td>Bitcoin</td>\n",
              "      <td>2022-06-04</td>\n",
              "      <td>$566,275,595,800</td>\n",
              "      <td>$21,997,859,591</td>\n",
              "      <td>$29,714</td>\n",
              "      <td>$29,872</td>\n",
              "    </tr>\n",
              "    <tr>\n",
              "      <th>34</th>\n",
              "      <td>Bitcoin</td>\n",
              "      <td>2022-06-03</td>\n",
              "      <td>$580,863,150,152</td>\n",
              "      <td>$24,232,399,986</td>\n",
              "      <td>$30,481</td>\n",
              "      <td>$29,714</td>\n",
              "    </tr>\n",
              "    <tr>\n",
              "      <th>35</th>\n",
              "      <td>Bitcoin</td>\n",
              "      <td>2022-06-02</td>\n",
              "      <td>$569,001,624,438</td>\n",
              "      <td>$35,553,330,792</td>\n",
              "      <td>$29,833</td>\n",
              "      <td>$30,481</td>\n",
              "    </tr>\n",
              "    <tr>\n",
              "      <th>36</th>\n",
              "      <td>Bitcoin</td>\n",
              "      <td>2022-06-01</td>\n",
              "      <td>$607,393,396,319</td>\n",
              "      <td>$29,770,567,353</td>\n",
              "      <td>$31,866</td>\n",
              "      <td>$29,833</td>\n",
              "    </tr>\n",
              "    <tr>\n",
              "      <th>37</th>\n",
              "      <td>Bitcoin</td>\n",
              "      <td>2022-05-31</td>\n",
              "      <td>$604,926,607,441</td>\n",
              "      <td>$34,891,305,295</td>\n",
              "      <td>$31,741</td>\n",
              "      <td>$31,866</td>\n",
              "    </tr>\n",
              "    <tr>\n",
              "      <th>38</th>\n",
              "      <td>Bitcoin</td>\n",
              "      <td>2022-05-30</td>\n",
              "      <td>$561,771,345,709</td>\n",
              "      <td>$14,496,111,398</td>\n",
              "      <td>$29,493</td>\n",
              "      <td>$31,741</td>\n",
              "    </tr>\n",
              "    <tr>\n",
              "      <th>39</th>\n",
              "      <td>Bitcoin</td>\n",
              "      <td>2022-05-29</td>\n",
              "      <td>$554,938,694,217</td>\n",
              "      <td>$15,406,515,373</td>\n",
              "      <td>$29,088</td>\n",
              "      <td>$29,493</td>\n",
              "    </tr>\n",
              "    <tr>\n",
              "      <th>40</th>\n",
              "      <td>Bitcoin</td>\n",
              "      <td>2022-05-28</td>\n",
              "      <td>$545,752,899,522</td>\n",
              "      <td>$31,756,305,901</td>\n",
              "      <td>$28,647</td>\n",
              "      <td>$29,088</td>\n",
              "    </tr>\n",
              "    <tr>\n",
              "      <th>41</th>\n",
              "      <td>Bitcoin</td>\n",
              "      <td>2022-05-27</td>\n",
              "      <td>$559,066,076,344</td>\n",
              "      <td>$31,972,044,692</td>\n",
              "      <td>$29,347</td>\n",
              "      <td>$28,647</td>\n",
              "    </tr>\n",
              "    <tr>\n",
              "      <th>42</th>\n",
              "      <td>Bitcoin</td>\n",
              "      <td>2022-05-26</td>\n",
              "      <td>$563,577,022,958</td>\n",
              "      <td>$23,108,764,916</td>\n",
              "      <td>$29,585</td>\n",
              "      <td>$29,347</td>\n",
              "    </tr>\n",
              "    <tr>\n",
              "      <th>43</th>\n",
              "      <td>Bitcoin</td>\n",
              "      <td>2022-05-25</td>\n",
              "      <td>$564,885,248,022</td>\n",
              "      <td>$23,486,436,837</td>\n",
              "      <td>$29,655</td>\n",
              "      <td>$29,585</td>\n",
              "    </tr>\n",
              "    <tr>\n",
              "      <th>44</th>\n",
              "      <td>Bitcoin</td>\n",
              "      <td>2022-05-24</td>\n",
              "      <td>$555,459,414,424</td>\n",
              "      <td>$26,646,754,325</td>\n",
              "      <td>$29,163</td>\n",
              "      <td>$29,655</td>\n",
              "    </tr>\n",
              "    <tr>\n",
              "      <th>45</th>\n",
              "      <td>Bitcoin</td>\n",
              "      <td>2022-05-23</td>\n",
              "      <td>$578,090,387,085</td>\n",
              "      <td>$17,199,930,155</td>\n",
              "      <td>$30,351</td>\n",
              "      <td>$29,163</td>\n",
              "    </tr>\n",
              "    <tr>\n",
              "      <th>46</th>\n",
              "      <td>Bitcoin</td>\n",
              "      <td>2022-05-22</td>\n",
              "      <td>$561,696,351,559</td>\n",
              "      <td>$13,561,006,428</td>\n",
              "      <td>$29,492</td>\n",
              "      <td>$30,351</td>\n",
              "    </tr>\n",
              "    <tr>\n",
              "      <th>47</th>\n",
              "      <td>Bitcoin</td>\n",
              "      <td>2022-05-21</td>\n",
              "      <td>$557,201,657,281</td>\n",
              "      <td>$25,980,877,920</td>\n",
              "      <td>$29,257</td>\n",
              "      <td>$29,492</td>\n",
              "    </tr>\n",
              "    <tr>\n",
              "      <th>48</th>\n",
              "      <td>Bitcoin</td>\n",
              "      <td>2022-05-20</td>\n",
              "      <td>$578,678,245,848</td>\n",
              "      <td>$29,190,056,577</td>\n",
              "      <td>$30,382</td>\n",
              "      <td>$29,257</td>\n",
              "    </tr>\n",
              "    <tr>\n",
              "      <th>49</th>\n",
              "      <td>Bitcoin</td>\n",
              "      <td>2022-05-19</td>\n",
              "      <td>$547,927,169,401</td>\n",
              "      <td>$26,219,431,165</td>\n",
              "      <td>$28,772</td>\n",
              "      <td>$30,382</td>\n",
              "    </tr>\n",
              "    <tr>\n",
              "      <th>50</th>\n",
              "      <td>Bitcoin</td>\n",
              "      <td>2022-05-18</td>\n",
              "      <td>$581,272,773,176</td>\n",
              "      <td>$24,964,703,224</td>\n",
              "      <td>$30,502</td>\n",
              "      <td>$28,772</td>\n",
              "    </tr>\n",
              "    <tr>\n",
              "      <th>51</th>\n",
              "      <td>Bitcoin</td>\n",
              "      <td>2022-05-17</td>\n",
              "      <td>$569,801,943,005</td>\n",
              "      <td>$28,418,179,221</td>\n",
              "      <td>$29,924</td>\n",
              "      <td>$30,502</td>\n",
              "    </tr>\n",
              "    <tr>\n",
              "      <th>52</th>\n",
              "      <td>Bitcoin</td>\n",
              "      <td>2022-05-16</td>\n",
              "      <td>$596,346,266,889</td>\n",
              "      <td>$22,948,123,704</td>\n",
              "      <td>$31,319</td>\n",
              "      <td>$29,924</td>\n",
              "    </tr>\n",
              "    <tr>\n",
              "      <th>53</th>\n",
              "      <td>Bitcoin</td>\n",
              "      <td>2022-05-15</td>\n",
              "      <td>$573,777,699,744</td>\n",
              "      <td>$25,759,546,764</td>\n",
              "      <td>$30,189</td>\n",
              "      <td>$31,319</td>\n",
              "    </tr>\n",
              "    <tr>\n",
              "      <th>54</th>\n",
              "      <td>Bitcoin</td>\n",
              "      <td>2022-05-14</td>\n",
              "      <td>$558,053,182,541</td>\n",
              "      <td>$71,541,696,924</td>\n",
              "      <td>$29,311</td>\n",
              "      <td>$30,189</td>\n",
              "    </tr>\n",
              "    <tr>\n",
              "      <th>55</th>\n",
              "      <td>Bitcoin</td>\n",
              "      <td>2022-05-13</td>\n",
              "      <td>$555,266,177,877</td>\n",
              "      <td>$61,338,080,284</td>\n",
              "      <td>$29,126</td>\n",
              "      <td>$29,311</td>\n",
              "    </tr>\n",
              "    <tr>\n",
              "      <th>56</th>\n",
              "      <td>Bitcoin</td>\n",
              "      <td>2022-05-12</td>\n",
              "      <td>$549,294,001,873</td>\n",
              "      <td>$65,985,702,702</td>\n",
              "      <td>$28,913</td>\n",
              "      <td>$29,126</td>\n",
              "    </tr>\n",
              "    <tr>\n",
              "      <th>57</th>\n",
              "      <td>Bitcoin</td>\n",
              "      <td>2022-05-11</td>\n",
              "      <td>$590,644,412,747</td>\n",
              "      <td>$54,071,363,210</td>\n",
              "      <td>$31,027</td>\n",
              "      <td>$28,913</td>\n",
              "    </tr>\n",
              "    <tr>\n",
              "      <th>58</th>\n",
              "      <td>Bitcoin</td>\n",
              "      <td>2022-05-10</td>\n",
              "      <td>$576,197,842,488</td>\n",
              "      <td>$58,369,928,594</td>\n",
              "      <td>$30,270</td>\n",
              "      <td>$31,027</td>\n",
              "    </tr>\n",
              "    <tr>\n",
              "      <th>59</th>\n",
              "      <td>Bitcoin</td>\n",
              "      <td>2022-05-09</td>\n",
              "      <td>$648,514,321,642</td>\n",
              "      <td>$30,810,576,502</td>\n",
              "      <td>$34,070</td>\n",
              "      <td>$30,270</td>\n",
              "    </tr>\n",
              "  </tbody>\n",
              "</table>\n",
              "</div>\n",
              "      <button class=\"colab-df-convert\" onclick=\"convertToInteractive('df-3e0ad4cd-41b7-4000-a519-8fbe51af294f')\"\n",
              "              title=\"Convert this dataframe to an interactive table.\"\n",
              "              style=\"display:none;\">\n",
              "        \n",
              "  <svg xmlns=\"http://www.w3.org/2000/svg\" height=\"24px\"viewBox=\"0 0 24 24\"\n",
              "       width=\"24px\">\n",
              "    <path d=\"M0 0h24v24H0V0z\" fill=\"none\"/>\n",
              "    <path d=\"M18.56 5.44l.94 2.06.94-2.06 2.06-.94-2.06-.94-.94-2.06-.94 2.06-2.06.94zm-11 1L8.5 8.5l.94-2.06 2.06-.94-2.06-.94L8.5 2.5l-.94 2.06-2.06.94zm10 10l.94 2.06.94-2.06 2.06-.94-2.06-.94-.94-2.06-.94 2.06-2.06.94z\"/><path d=\"M17.41 7.96l-1.37-1.37c-.4-.4-.92-.59-1.43-.59-.52 0-1.04.2-1.43.59L10.3 9.45l-7.72 7.72c-.78.78-.78 2.05 0 2.83L4 21.41c.39.39.9.59 1.41.59.51 0 1.02-.2 1.41-.59l7.78-7.78 2.81-2.81c.8-.78.8-2.07 0-2.86zM5.41 20L4 18.59l7.72-7.72 1.47 1.35L5.41 20z\"/>\n",
              "  </svg>\n",
              "      </button>\n",
              "      \n",
              "  <style>\n",
              "    .colab-df-container {\n",
              "      display:flex;\n",
              "      flex-wrap:wrap;\n",
              "      gap: 12px;\n",
              "    }\n",
              "\n",
              "    .colab-df-convert {\n",
              "      background-color: #E8F0FE;\n",
              "      border: none;\n",
              "      border-radius: 50%;\n",
              "      cursor: pointer;\n",
              "      display: none;\n",
              "      fill: #1967D2;\n",
              "      height: 32px;\n",
              "      padding: 0 0 0 0;\n",
              "      width: 32px;\n",
              "    }\n",
              "\n",
              "    .colab-df-convert:hover {\n",
              "      background-color: #E2EBFA;\n",
              "      box-shadow: 0px 1px 2px rgba(60, 64, 67, 0.3), 0px 1px 3px 1px rgba(60, 64, 67, 0.15);\n",
              "      fill: #174EA6;\n",
              "    }\n",
              "\n",
              "    [theme=dark] .colab-df-convert {\n",
              "      background-color: #3B4455;\n",
              "      fill: #D2E3FC;\n",
              "    }\n",
              "\n",
              "    [theme=dark] .colab-df-convert:hover {\n",
              "      background-color: #434B5C;\n",
              "      box-shadow: 0px 1px 3px 1px rgba(0, 0, 0, 0.15);\n",
              "      filter: drop-shadow(0px 1px 2px rgba(0, 0, 0, 0.3));\n",
              "      fill: #FFFFFF;\n",
              "    }\n",
              "  </style>\n",
              "\n",
              "      <script>\n",
              "        const buttonEl =\n",
              "          document.querySelector('#df-3e0ad4cd-41b7-4000-a519-8fbe51af294f button.colab-df-convert');\n",
              "        buttonEl.style.display =\n",
              "          google.colab.kernel.accessAllowed ? 'block' : 'none';\n",
              "\n",
              "        async function convertToInteractive(key) {\n",
              "          const element = document.querySelector('#df-3e0ad4cd-41b7-4000-a519-8fbe51af294f');\n",
              "          const dataTable =\n",
              "            await google.colab.kernel.invokeFunction('convertToInteractive',\n",
              "                                                     [key], {});\n",
              "          if (!dataTable) return;\n",
              "\n",
              "          const docLinkHtml = 'Like what you see? Visit the ' +\n",
              "            '<a target=\"_blank\" href=https://colab.research.google.com/notebooks/data_table.ipynb>data table notebook</a>'\n",
              "            + ' to learn more about interactive tables.';\n",
              "          element.innerHTML = '';\n",
              "          dataTable['output_type'] = 'display_data';\n",
              "          await google.colab.output.renderOutput(dataTable, element);\n",
              "          const docLink = document.createElement('div');\n",
              "          docLink.innerHTML = docLinkHtml;\n",
              "          element.appendChild(docLink);\n",
              "        }\n",
              "      </script>\n",
              "    </div>\n",
              "  </div>\n",
              "  "
            ]
          },
          "metadata": {},
          "execution_count": 33
        }
      ],
      "source": [
        "# output dataframe\n",
        "crypto"
      ]
    },
    {
      "cell_type": "code",
      "execution_count": null,
      "metadata": {
        "id": "P2guv7pmFFZQ"
      },
      "outputs": [],
      "source": [
        ""
      ]
    },
    {
      "cell_type": "markdown",
      "metadata": {
        "id": "xOx51yUXFFZQ"
      },
      "source": [
        "### Output in Excel"
      ]
    },
    {
      "cell_type": "code",
      "execution_count": null,
      "metadata": {
        "id": "w3fOP6oqFFZQ"
      },
      "outputs": [],
      "source": [
        "crypto.to_excel('coingecko.com_single.xlsx', index=False)"
      ]
    },
    {
      "cell_type": "code",
      "source": [
        ""
      ],
      "metadata": {
        "id": "cXUJz4BTv7Jy"
      },
      "execution_count": null,
      "outputs": []
    },
    {
      "cell_type": "markdown",
      "source": [
        " ### From start of the year"
      ],
      "metadata": {
        "id": "1hpydzfHv8lA"
      }
    },
    {
      "cell_type": "code",
      "source": [
        "# empty list\n",
        "date = []\n",
        "market_cap = []\n",
        "volume = []\n",
        "open = []\n",
        "close = []\n",
        "\n",
        "for i in range(1,5):\n",
        "  # website\n",
        "  website= f'https://www.coingecko.com/en/coins/bitcoin/historical_data?end_date=2022-07-12&page={i}&start_date=2022-01-01'\n",
        "  \n",
        "  # request to website\n",
        "  response = requests.get(website)\n",
        "\n",
        "  # soup object\n",
        "  soup = BeautifulSoup(response.content, 'html.parser')\n",
        "\n",
        "  # results\n",
        "  results = soup.find('table', {'class':'table table-striped text-sm text-lg-normal'}).find('tbody').find_all('tr') \n",
        "\n",
        "  for result in results:\n",
        "    \n",
        "    # date\n",
        "    try:\n",
        "        date.append(result.find('th', {'class':'font-semibold text-center'}).get_text().strip()) \n",
        "    except:\n",
        "        date.append('n/a')\n",
        "    headings = []\n",
        "    for td in result.find_all(\"td\"):\n",
        "        # remove any newlines and extra spaces from left and right\n",
        "        headings.append(td.text.replace('\\n', ' ').strip())\n",
        "\n",
        "        #print(headings[0])\n",
        "        #print(headings[1])\n",
        "        #print(headings[2])\n",
        "        #print(headings[3])\n",
        "    #  market cap \n",
        "    try:\n",
        "      market_cap.append(headings[0])\n",
        "    except:\n",
        "      market_cap.append('n/a')\n",
        "    # volume\n",
        "    try:\n",
        "        volume.append(headings[1])\n",
        "    except:\n",
        "        volume.append('n/a')\n",
        "    \n",
        "    # open\n",
        "    try:\n",
        "        open.append(headings[2])\n",
        "    except:\n",
        "        open.append('n/a')\n",
        "        \n",
        "    # close\n",
        "    try:\n",
        "        close.append(headings[3])\n",
        "    except:\n",
        "        close.append('n/a')\n",
        "    \n",
        "  \n"
      ],
      "metadata": {
        "id": "ZNCoiffrv7B_"
      },
      "execution_count": 41,
      "outputs": []
    },
    {
      "cell_type": "code",
      "source": [
        "# create dataframe\n",
        "crypto = pd.DataFrame({'Coin': 'Bitcoin', 'Date':date, 'Market cap':market_cap,\n",
        "                                'Volume': volume, 'Open': open, 'Close': close,})"
      ],
      "metadata": {
        "id": "jXZkZZTYv64X"
      },
      "execution_count": 43,
      "outputs": []
    },
    {
      "cell_type": "code",
      "source": [
        "# output dataframe\n",
        "crypto"
      ],
      "metadata": {
        "colab": {
          "base_uri": "https://localhost:8080/",
          "height": 424
        },
        "id": "ufI8Lyx0xovT",
        "outputId": "0ebc34a6-ea95-4799-85ee-c1071cd25171"
      },
      "execution_count": 44,
      "outputs": [
        {
          "output_type": "execute_result",
          "data": {
            "text/plain": [
              "        Coin        Date        Market cap           Volume        Open  \\\n",
              "0    Bitcoin  2022-07-12  $382,000,290,322  $21,319,467,249  $19,998.47   \n",
              "1    Bitcoin  2022-07-11  $398,249,545,889  $25,037,950,754     $20,860   \n",
              "2    Bitcoin  2022-07-10  $412,459,838,738  $26,211,587,452     $21,590   \n",
              "3    Bitcoin  2022-07-09  $417,690,286,505  $46,645,398,901     $21,859   \n",
              "4    Bitcoin  2022-07-08  $414,055,638,574  $21,927,087,503     $21,661   \n",
              "..       ...         ...               ...              ...         ...   \n",
              "188  Bitcoin  2022-01-05  $876,242,689,666  $24,895,990,584     $45,938   \n",
              "189  Bitcoin  2022-01-04  $880,330,191,985  $21,890,019,532     $46,531   \n",
              "190  Bitcoin  2022-01-03  $897,536,090,321  $33,756,128,242     $47,387   \n",
              "191  Bitcoin  2022-01-02  $904,551,946,917  $18,904,585,811     $47,816   \n",
              "192  Bitcoin  2022-01-01  $876,192,941,903  $25,895,349,605     $46,320   \n",
              "\n",
              "          Close  \n",
              "0           N/A  \n",
              "1    $19,998.47  \n",
              "2       $20,860  \n",
              "3       $21,590  \n",
              "4       $21,859  \n",
              "..          ...  \n",
              "188     $43,647  \n",
              "189     $45,938  \n",
              "190     $46,531  \n",
              "191     $47,387  \n",
              "192     $47,816  \n",
              "\n",
              "[193 rows x 6 columns]"
            ],
            "text/html": [
              "\n",
              "  <div id=\"df-a0b592be-b250-4ea0-80e8-7a69d4fe3cdc\">\n",
              "    <div class=\"colab-df-container\">\n",
              "      <div>\n",
              "<style scoped>\n",
              "    .dataframe tbody tr th:only-of-type {\n",
              "        vertical-align: middle;\n",
              "    }\n",
              "\n",
              "    .dataframe tbody tr th {\n",
              "        vertical-align: top;\n",
              "    }\n",
              "\n",
              "    .dataframe thead th {\n",
              "        text-align: right;\n",
              "    }\n",
              "</style>\n",
              "<table border=\"1\" class=\"dataframe\">\n",
              "  <thead>\n",
              "    <tr style=\"text-align: right;\">\n",
              "      <th></th>\n",
              "      <th>Coin</th>\n",
              "      <th>Date</th>\n",
              "      <th>Market cap</th>\n",
              "      <th>Volume</th>\n",
              "      <th>Open</th>\n",
              "      <th>Close</th>\n",
              "    </tr>\n",
              "  </thead>\n",
              "  <tbody>\n",
              "    <tr>\n",
              "      <th>0</th>\n",
              "      <td>Bitcoin</td>\n",
              "      <td>2022-07-12</td>\n",
              "      <td>$382,000,290,322</td>\n",
              "      <td>$21,319,467,249</td>\n",
              "      <td>$19,998.47</td>\n",
              "      <td>N/A</td>\n",
              "    </tr>\n",
              "    <tr>\n",
              "      <th>1</th>\n",
              "      <td>Bitcoin</td>\n",
              "      <td>2022-07-11</td>\n",
              "      <td>$398,249,545,889</td>\n",
              "      <td>$25,037,950,754</td>\n",
              "      <td>$20,860</td>\n",
              "      <td>$19,998.47</td>\n",
              "    </tr>\n",
              "    <tr>\n",
              "      <th>2</th>\n",
              "      <td>Bitcoin</td>\n",
              "      <td>2022-07-10</td>\n",
              "      <td>$412,459,838,738</td>\n",
              "      <td>$26,211,587,452</td>\n",
              "      <td>$21,590</td>\n",
              "      <td>$20,860</td>\n",
              "    </tr>\n",
              "    <tr>\n",
              "      <th>3</th>\n",
              "      <td>Bitcoin</td>\n",
              "      <td>2022-07-09</td>\n",
              "      <td>$417,690,286,505</td>\n",
              "      <td>$46,645,398,901</td>\n",
              "      <td>$21,859</td>\n",
              "      <td>$21,590</td>\n",
              "    </tr>\n",
              "    <tr>\n",
              "      <th>4</th>\n",
              "      <td>Bitcoin</td>\n",
              "      <td>2022-07-08</td>\n",
              "      <td>$414,055,638,574</td>\n",
              "      <td>$21,927,087,503</td>\n",
              "      <td>$21,661</td>\n",
              "      <td>$21,859</td>\n",
              "    </tr>\n",
              "    <tr>\n",
              "      <th>...</th>\n",
              "      <td>...</td>\n",
              "      <td>...</td>\n",
              "      <td>...</td>\n",
              "      <td>...</td>\n",
              "      <td>...</td>\n",
              "      <td>...</td>\n",
              "    </tr>\n",
              "    <tr>\n",
              "      <th>188</th>\n",
              "      <td>Bitcoin</td>\n",
              "      <td>2022-01-05</td>\n",
              "      <td>$876,242,689,666</td>\n",
              "      <td>$24,895,990,584</td>\n",
              "      <td>$45,938</td>\n",
              "      <td>$43,647</td>\n",
              "    </tr>\n",
              "    <tr>\n",
              "      <th>189</th>\n",
              "      <td>Bitcoin</td>\n",
              "      <td>2022-01-04</td>\n",
              "      <td>$880,330,191,985</td>\n",
              "      <td>$21,890,019,532</td>\n",
              "      <td>$46,531</td>\n",
              "      <td>$45,938</td>\n",
              "    </tr>\n",
              "    <tr>\n",
              "      <th>190</th>\n",
              "      <td>Bitcoin</td>\n",
              "      <td>2022-01-03</td>\n",
              "      <td>$897,536,090,321</td>\n",
              "      <td>$33,756,128,242</td>\n",
              "      <td>$47,387</td>\n",
              "      <td>$46,531</td>\n",
              "    </tr>\n",
              "    <tr>\n",
              "      <th>191</th>\n",
              "      <td>Bitcoin</td>\n",
              "      <td>2022-01-02</td>\n",
              "      <td>$904,551,946,917</td>\n",
              "      <td>$18,904,585,811</td>\n",
              "      <td>$47,816</td>\n",
              "      <td>$47,387</td>\n",
              "    </tr>\n",
              "    <tr>\n",
              "      <th>192</th>\n",
              "      <td>Bitcoin</td>\n",
              "      <td>2022-01-01</td>\n",
              "      <td>$876,192,941,903</td>\n",
              "      <td>$25,895,349,605</td>\n",
              "      <td>$46,320</td>\n",
              "      <td>$47,816</td>\n",
              "    </tr>\n",
              "  </tbody>\n",
              "</table>\n",
              "<p>193 rows × 6 columns</p>\n",
              "</div>\n",
              "      <button class=\"colab-df-convert\" onclick=\"convertToInteractive('df-a0b592be-b250-4ea0-80e8-7a69d4fe3cdc')\"\n",
              "              title=\"Convert this dataframe to an interactive table.\"\n",
              "              style=\"display:none;\">\n",
              "        \n",
              "  <svg xmlns=\"http://www.w3.org/2000/svg\" height=\"24px\"viewBox=\"0 0 24 24\"\n",
              "       width=\"24px\">\n",
              "    <path d=\"M0 0h24v24H0V0z\" fill=\"none\"/>\n",
              "    <path d=\"M18.56 5.44l.94 2.06.94-2.06 2.06-.94-2.06-.94-.94-2.06-.94 2.06-2.06.94zm-11 1L8.5 8.5l.94-2.06 2.06-.94-2.06-.94L8.5 2.5l-.94 2.06-2.06.94zm10 10l.94 2.06.94-2.06 2.06-.94-2.06-.94-.94-2.06-.94 2.06-2.06.94z\"/><path d=\"M17.41 7.96l-1.37-1.37c-.4-.4-.92-.59-1.43-.59-.52 0-1.04.2-1.43.59L10.3 9.45l-7.72 7.72c-.78.78-.78 2.05 0 2.83L4 21.41c.39.39.9.59 1.41.59.51 0 1.02-.2 1.41-.59l7.78-7.78 2.81-2.81c.8-.78.8-2.07 0-2.86zM5.41 20L4 18.59l7.72-7.72 1.47 1.35L5.41 20z\"/>\n",
              "  </svg>\n",
              "      </button>\n",
              "      \n",
              "  <style>\n",
              "    .colab-df-container {\n",
              "      display:flex;\n",
              "      flex-wrap:wrap;\n",
              "      gap: 12px;\n",
              "    }\n",
              "\n",
              "    .colab-df-convert {\n",
              "      background-color: #E8F0FE;\n",
              "      border: none;\n",
              "      border-radius: 50%;\n",
              "      cursor: pointer;\n",
              "      display: none;\n",
              "      fill: #1967D2;\n",
              "      height: 32px;\n",
              "      padding: 0 0 0 0;\n",
              "      width: 32px;\n",
              "    }\n",
              "\n",
              "    .colab-df-convert:hover {\n",
              "      background-color: #E2EBFA;\n",
              "      box-shadow: 0px 1px 2px rgba(60, 64, 67, 0.3), 0px 1px 3px 1px rgba(60, 64, 67, 0.15);\n",
              "      fill: #174EA6;\n",
              "    }\n",
              "\n",
              "    [theme=dark] .colab-df-convert {\n",
              "      background-color: #3B4455;\n",
              "      fill: #D2E3FC;\n",
              "    }\n",
              "\n",
              "    [theme=dark] .colab-df-convert:hover {\n",
              "      background-color: #434B5C;\n",
              "      box-shadow: 0px 1px 3px 1px rgba(0, 0, 0, 0.15);\n",
              "      filter: drop-shadow(0px 1px 2px rgba(0, 0, 0, 0.3));\n",
              "      fill: #FFFFFF;\n",
              "    }\n",
              "  </style>\n",
              "\n",
              "      <script>\n",
              "        const buttonEl =\n",
              "          document.querySelector('#df-a0b592be-b250-4ea0-80e8-7a69d4fe3cdc button.colab-df-convert');\n",
              "        buttonEl.style.display =\n",
              "          google.colab.kernel.accessAllowed ? 'block' : 'none';\n",
              "\n",
              "        async function convertToInteractive(key) {\n",
              "          const element = document.querySelector('#df-a0b592be-b250-4ea0-80e8-7a69d4fe3cdc');\n",
              "          const dataTable =\n",
              "            await google.colab.kernel.invokeFunction('convertToInteractive',\n",
              "                                                     [key], {});\n",
              "          if (!dataTable) return;\n",
              "\n",
              "          const docLinkHtml = 'Like what you see? Visit the ' +\n",
              "            '<a target=\"_blank\" href=https://colab.research.google.com/notebooks/data_table.ipynb>data table notebook</a>'\n",
              "            + ' to learn more about interactive tables.';\n",
              "          element.innerHTML = '';\n",
              "          dataTable['output_type'] = 'display_data';\n",
              "          await google.colab.output.renderOutput(dataTable, element);\n",
              "          const docLink = document.createElement('div');\n",
              "          docLink.innerHTML = docLinkHtml;\n",
              "          element.appendChild(docLink);\n",
              "        }\n",
              "      </script>\n",
              "    </div>\n",
              "  </div>\n",
              "  "
            ]
          },
          "metadata": {},
          "execution_count": 44
        }
      ]
    },
    {
      "cell_type": "code",
      "source": [
        "crypto.to_excel('coingecko.com_bitcoin_historical.xlsx', index=False)"
      ],
      "metadata": {
        "id": "aXs4DjNlx2FP"
      },
      "execution_count": 45,
      "outputs": []
    },
    {
      "cell_type": "code",
      "source": [
        ""
      ],
      "metadata": {
        "id": "AeeoDgv8x_Q0"
      },
      "execution_count": null,
      "outputs": []
    }
  ],
  "metadata": {
    "kernelspec": {
      "display_name": "Python 3",
      "language": "python",
      "name": "python3"
    },
    "language_info": {
      "codemirror_mode": {
        "name": "ipython",
        "version": 3
      },
      "file_extension": ".py",
      "mimetype": "text/x-python",
      "name": "python",
      "nbconvert_exporter": "python",
      "pygments_lexer": "ipython3",
      "version": "3.9.2"
    },
    "colab": {
      "name": "Scaping_Historical_Coingecko.ipynb",
      "provenance": [],
      "collapsed_sections": []
    }
  },
  "nbformat": 4,
  "nbformat_minor": 0
}
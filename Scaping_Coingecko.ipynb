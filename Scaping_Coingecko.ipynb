{
  "cells": [
    {
      "cell_type": "markdown",
      "metadata": {
        "id": "oIUE4jGzFFZF"
      },
      "source": [
        "### Imports"
      ]
    },
    {
      "cell_type": "code",
      "execution_count": 1,
      "metadata": {
        "id": "dcQbO6nxFFZH"
      },
      "outputs": [],
      "source": [
        "from bs4 import BeautifulSoup\n",
        "import requests\n",
        "import pandas as pd "
      ]
    },
    {
      "cell_type": "markdown",
      "metadata": {
        "id": "S6YO4qrOFFZI"
      },
      "source": [
        "### HTTP Request"
      ]
    },
    {
      "cell_type": "markdown",
      "metadata": {
        "id": "enkw1zHdFFZI"
      },
      "source": [
        "#### store website in variable"
      ]
    },
    {
      "cell_type": "code",
      "execution_count": 2,
      "metadata": {
        "id": "5QfXr3MjFFZJ"
      },
      "outputs": [],
      "source": [
        "ua = {\"User-Agent\":\"Mozilla/5.0 (Windows NT 10.0; Win64; x64) AppleWebKit/537.36 (KHTML, like Gecko) Chrome/92.0.4515.107 Safari/537.36 Edg/92.0.902.62\"}"
      ]
    },
    {
      "cell_type": "code",
      "execution_count": 3,
      "metadata": {
        "id": "IaUht7YOFFZJ"
      },
      "outputs": [],
      "source": [
        "website = 'https://www.coingecko.com/en'"
      ]
    },
    {
      "cell_type": "markdown",
      "metadata": {
        "id": "9EuyJ6qaFFZJ"
      },
      "source": [
        "#### Get Request"
      ]
    },
    {
      "cell_type": "code",
      "execution_count": 4,
      "metadata": {
        "id": "IfvpuPQMFFZK"
      },
      "outputs": [],
      "source": [
        "response = requests.get(website)"
      ]
    },
    {
      "cell_type": "markdown",
      "metadata": {
        "id": "5ZBMaoxlFFZK"
      },
      "source": [
        "#### Status Code"
      ]
    },
    {
      "cell_type": "code",
      "execution_count": 5,
      "metadata": {
        "id": "WrGoxBrBFFZK",
        "outputId": "e5cbc735-225f-4ae3-f7fd-06504b0c268f",
        "colab": {
          "base_uri": "https://localhost:8080/"
        }
      },
      "outputs": [
        {
          "output_type": "execute_result",
          "data": {
            "text/plain": [
              "200"
            ]
          },
          "metadata": {},
          "execution_count": 5
        }
      ],
      "source": [
        "response.status_code"
      ]
    },
    {
      "cell_type": "markdown",
      "metadata": {
        "id": "P62_c2o_FFZL"
      },
      "source": [
        "### Soup Object"
      ]
    },
    {
      "cell_type": "code",
      "execution_count": 6,
      "metadata": {
        "id": "e-5_IIWjFFZM"
      },
      "outputs": [],
      "source": [
        "soup = BeautifulSoup(response.content, 'html.parser')"
      ]
    },
    {
      "cell_type": "markdown",
      "metadata": {
        "id": "8GUXVgowFFZM"
      },
      "source": [
        "### Results"
      ]
    },
    {
      "cell_type": "code",
      "execution_count": 7,
      "metadata": {
        "id": "yxHPjxZdFFZM"
      },
      "outputs": [],
      "source": [
        "results = soup.find('table', {'class':'table-scrollable'}).find('tbody').find_all('tr')"
      ]
    },
    {
      "cell_type": "code",
      "execution_count": 8,
      "metadata": {
        "id": "t_PvKqA-FFZM",
        "outputId": "e8dd4d26-054a-4bb4-ad75-63bc2a9280b8",
        "colab": {
          "base_uri": "https://localhost:8080/"
        }
      },
      "outputs": [
        {
          "output_type": "execute_result",
          "data": {
            "text/plain": [
              "100"
            ]
          },
          "metadata": {},
          "execution_count": 8
        }
      ],
      "source": [
        "len(results)"
      ]
    },
    {
      "cell_type": "code",
      "execution_count": 9,
      "metadata": {
        "id": "u8kstMjsFFZM",
        "outputId": "f4c4d0a4-2ed2-4528-f3a7-a0e7c532f262",
        "colab": {
          "base_uri": "https://localhost:8080/"
        }
      },
      "outputs": [
        {
          "output_type": "execute_result",
          "data": {
            "text/plain": [
              "<tr>\n",
              "<td class=\"pl-1 pr-0 cg-sticky-col cg-sticky-first-col\">\n",
              "<div class=\"dropdown-menu p-3 dropdown-popup dropdown-menu-content portfolios-dropdown\"></div>\n",
              "<i aria-expanded=\"false\" aria-haspopup=\"true\" class=\"far cursor-pointer fa-star\" data-action=\"click-&gt;favorites#trigger\" data-coin-id=\"1\" data-coin-image=\"https://assets.coingecko.com/coins/images/1/thumb/bitcoin.png?1547033579\" data-coin-slug=\"bitcoin\" data-coin-symbol=\"btc\" data-new-portfolio-button-label='&lt;span class=\"translation_missing\" title=\"translation missing: en.layouts.application.portfolio.add_to_new_portfolio\"&gt;Add To New Portfolio&lt;/span&gt;' data-new-portfolio-confirm-button=\"new-portfolio-form-confirm-button\" data-new-portfolio-confirm-modal=\"new-portfolio-form-modal\" data-price-btc=\"1.0\" data-removable=\"false\" data-source=\"star_button\" data-target=\"favorites.solidStar\" data-toast-success-hyperlink-text=\"Start your portfolio - Add a transaction!\" data-toast-success-message=\"BTC added to Portfolio\" data-toggle=\"dropdown\" data-unfavorite-coin-confirm-button=\"unfavorite-coin-confirm-button\" data-unfavorite-coin-confirm-modal=\"unfavorite-coin-confirm-modal\"></i>\n",
              "</td>\n",
              "<td class=\"table-number tw-text-left text-xs cg-sticky-col cg-sticky-second-col tw-max-w-14 lg:tw-w-14\">\n",
              "1\n",
              "</td>\n",
              "<td class=\"py-0 coin-name cg-sticky-col cg-sticky-third-col px-0 tw-max-w-40 tw-w-40\" data-sort=\"Bitcoin\">\n",
              "<div class=\"tw-flex\">\n",
              "<div class=\"tw-w-5 tw-mr-1 lg:tw-mr-2 center tw-flex-column\">\n",
              "<img alt=\"bitcoin (BTC)\" class=\"mr-0 tw-h-5 tw-w-5 tw-overflow-hidden\" height=\"20\" loading=\"lazy\" src=\"https://assets.coingecko.com/coins/images/1/thumb/bitcoin.png?1547033579\" width=\"20\"/>\n",
              "</div>\n",
              "<div class=\"tw-flex-auto\">\n",
              "<div class=\"tw-flex tw-items-center\">\n",
              "<a class=\"tw-hidden lg:tw-flex font-bold tw-items-center tw-justify-between\" href=\"/en/coins/bitcoin\" style=\"width: 115px;\">\n",
              "Bitcoin\n",
              "</a> <a class=\"d-lg-none font-bold tw-w-12\" href=\"/en/coins/bitcoin\">\n",
              "BTC\n",
              "</a> <span class=\"tw-hidden d-lg-inline font-normal text-3xs ml-2\">\n",
              "BTC\n",
              "</span>\n",
              "</div>\n",
              "</div>\n",
              "</div>\n",
              "</td>\n",
              "<td class=\"td-price price text-left pl-0\">\n",
              "<div data-api-symbol=\"bitcoin\" data-target=\"buy-sell-ads.coinRowBuy\" data-zone-key=\"CEAD627L\" id=\"token-bitcoin-js\">\n",
              "</div>\n",
              "</td>\n",
              "<td class=\"td-price price text-right pl-0\" data-sort=\"19766.291661234\">\n",
              "<span class=\"no-wrap\" data-coin-id=\"1\" data-coin-symbol=\"btc\" data-price-btc=\"1.0\" data-target=\"price.price\">$19,766.29</span>\n",
              "</td>\n",
              "<td class=\"td-change1h change1h stat-percent text-right col-market\" data-sort=\"0.13363516460799052\">\n",
              "<span class=\"text-green\" data-24h=\"false\" data-coin-id=\"1\" data-down-class=\"text-danger\" data-json='{\"aed\":0.13363516460833352,\"ars\":0.12973356273223235,\"aud\":0.23529174324236332,\"bch\":-0.04006281765345188,\"bdt\":-0.030036129440839728,\"bhd\":0.12726147180821867,\"bmd\":0.13363516460799052,\"bnb\":0.03587050542182419,\"brl\":0.12987752294057925,\"btc\":0.0,\"cad\":0.26139221350317393,\"chf\":0.2363752855065213,\"clp\":0.13363516460847571,\"cny\":0.09928861393617727,\"czk\":0.19280769189725624,\"dkk\":0.18444022898722437,\"dot\":0.4765209687338441,\"eos\":-0.18622576319562603,\"eth\":-0.2372045735486924,\"eur\":0.177255863765374,\"gbp\":0.3417533218558793,\"hkd\":0.12208779343988016,\"huf\":0.30262191051825965,\"idr\":0.08134072998693996,\"ils\":0.101837706102804,\"inr\":0.13141655997761983,\"jpy\":0.24074114889565662,\"krw\":0.056985120496357074,\"kwd\":0.11668457789616592,\"lkr\":-0.05580204001374519,\"ltc\":-0.20484793660436482,\"mmk\":-0.05590508946340377,\"mxn\":0.07011614784910646,\"myr\":0.1336351646082899,\"ngn\":-0.042273982749625544,\"nok\":-0.05134718449535846,\"nzd\":0.3034995458730159,\"php\":0.19779805651366816,\"pkr\":0.13363516460847424,\"pln\":0.18485298956991997,\"rub\":1.8158432267223246,\"sar\":0.12696679077434825,\"sek\":0.1943099876472756,\"sgd\":0.13691858565663595,\"thb\":0.13089748507229443,\"try\":0.16961202728391586,\"twd\":0.09836988997540129,\"uah\":-0.056344283052514696,\"usd\":0.13363516460799052,\"vef\":0.13363516460823638,\"vnd\":0.13363516460828054,\"xag\":0.21463554107315694,\"xau\":0.18416304913692713,\"xdr\":0.13363516460866773,\"xlm\":-0.1994506933894253,\"xrp\":0.26093117498013324,\"yfi\":-0.6402791115669061,\"zar\":0.24007344986394244,\"bits\":0.039589957406674106,\"link\":-0.12383118916902064,\"sats\":0.03958995740667038}' data-show-solid-arrow=\"false\" data-target=\"percent-change.percent\" data-up-class=\"text-green\">0.1%</span>\n",
              "</td>\n",
              "<td class=\"td-change24h change24h stat-percent text-right col-market\" data-sort=\"1.3190698460547372\">\n",
              "<span class=\"text-green\" data-24h=\"true\" data-coin-id=\"1\" data-down-class=\"text-danger\" data-json='{\"aed\":1.319621544098305,\"ars\":1.7149571356857087,\"aud\":2.778016004025416,\"bch\":1.1897588409437119,\"bdt\":1.338141055372908,\"bhd\":1.3075157049049175,\"bmd\":1.3190698460547372,\"bnb\":-2.120420947158932,\"brl\":1.3019625232288699,\"btc\":0.0,\"cad\":2.1184329002734876,\"chf\":1.999790780014906,\"clp\":0.9029639489624594,\"cny\":1.5387161865098138,\"czk\":2.9910172008906954,\"dkk\":2.966889882087096,\"dot\":1.100747062793784,\"eos\":-0.5955519993775017,\"eth\":-3.501772906250427,\"eur\":2.9652340535794317,\"gbp\":2.5218955096062254,\"hkd\":1.3255262920351445,\"huf\":4.280982456579994,\"idr\":1.4541843107605457,\"ils\":2.0984738367681803,\"inr\":1.7908096517861818,\"jpy\":1.8908949645096806,\"krw\":2.4830784991846233,\"kwd\":1.4518585073466685,\"lkr\":1.3154523111923555,\"ltc\":2.150040167259163,\"mmk\":1.310068103832745,\"mxn\":2.1250833148206203,\"myr\":1.4683048231676963,\"ngn\":1.3290669000952557,\"nok\":2.458188411921651,\"nzd\":3.071171135722535,\"php\":2.0852451655035176,\"pkr\":1.5074894750852437,\"pln\":3.569939374725074,\"rub\":11.44636982815646,\"sar\":1.3315952496979584,\"sek\":3.326516139057535,\"sgd\":1.8919732437027155,\"thb\":1.7524873908805219,\"try\":2.2759440703455875,\"twd\":1.6791507694961239,\"uah\":1.3109832958075396,\"usd\":1.3190698460547372,\"vef\":1.3190698460545962,\"vnd\":1.3804473174726342,\"xag\":1.529542965393896,\"xau\":1.6009031418707254,\"xdr\":1.2477458386981142,\"xlm\":2.099410999832823,\"xrp\":1.3737144359586646,\"yfi\":-5.999047016012182,\"zar\":2.4729378114479026,\"bits\":0.03534756548436497,\"link\":0.21991012628642873,\"sats\":0.03534756548437242}' data-show-solid-arrow=\"false\" data-target=\"percent-change.percent\" data-up-class=\"text-green\">1.3%</span>\n",
              "</td>\n",
              "<td class=\"td-change7d change7d stat-percent text-right col-market\" data-sort=\"-4.7475456535322\" style=\"width: 70px;\">\n",
              "<span class=\"text-danger\" data-24h=\"false\" data-coin-id=\"1\" data-down-class=\"text-danger\" data-json='{\"aed\":-4.7498795733522705,\"ars\":-3.7535126581961946,\"aud\":-2.882746069606884,\"bch\":1.1350365660902133,\"bdt\":-4.254349825779172,\"bhd\":-4.748303570310853,\"bmd\":-4.7475456535322,\"bnb\":-2.723179878898957,\"brl\":-3.0909970421573463,\"btc\":0.0,\"cad\":-4.226756137177173,\"chf\":-3.804286384045294,\"clp\":-3.9175032667081373,\"cny\":-4.5866991347907335,\"czk\":-1.9977035452424705,\"dkk\":-2.1044905833809335,\"dot\":7.594715087477947,\"eos\":-2.2318547784173655,\"eth\":0.5725311526909825,\"eur\":-2.0874718213412042,\"gbp\":-2.7091958506919327,\"hkd\":-4.746331743896461,\"huf\":-1.319741992723722,\"idr\":-3.3638416293610445,\"ils\":-1.917814662741462,\"inr\":-3.7073032276041347,\"jpy\":-4.286351155380405,\"krw\":-3.039323274381164,\"kwd\":-4.595647680399246,\"lkr\":-5.189782492730667,\"ltc\":5.924997400530865,\"mmk\":-4.792872918909447,\"mxn\":-2.4760334480779687,\"myr\":-4.412302001767947,\"ngn\":-4.334702571246615,\"nok\":-3.0964014759289067,\"nzd\":-2.434601925856684,\"php\":-3.848972042212121,\"pkr\":-5.837322024244701,\"pln\":-1.0304659000342409,\"rub\":8.520563470621365,\"sar\":-4.738688975619889,\"sek\":-0.9934871966069304,\"sgd\":-3.553040919017162,\"thb\":-3.573347792859346,\"try\":-2.3382164993966197,\"twd\":-4.148499863340874,\"uah\":-4.777902691028688,\"usd\":-4.7475456535322,\"vef\":-4.747545653532172,\"vnd\":-4.266953068647538,\"xag\":1.6326335537096528,\"xau\":-3.5786866757924356,\"xdr\":-4.447380767303109,\"xlm\":5.325605583512165,\"xrp\":5.299262589688248,\"yfi\":-3.6107603680961606,\"zar\":-1.351233202911572,\"bits\":0.02027335179319445,\"link\":-0.0904178520137534,\"sats\":0.0202733517932019}' data-show-solid-arrow=\"false\" data-target=\"percent-change.percent\" data-up-class=\"text-green\">-4.7%</span>\n",
              "</td>\n",
              "<td class=\"td-liquidity_score lit text-right col-market\" data-sort=\"1063347.82259683\" style=\"width: 155px;\">\n",
              "<span class=\"no-wrap\" data-no-decimal=\"true\" data-price-btc=\"1063347.82259683\" data-target=\"price.price\">$21,013,813,704</span>\n",
              "</td>\n",
              "<td class=\"td-market_cap cap col-market cap-price text-right\" data-sort=\"19085687.0\" style=\"width: 155px;\">\n",
              "<span class=\"no-wrap\" data-price-btc=\"19085687.0\" data-target=\"price.price\">$376,957,052,654</span>\n",
              "</td>\n",
              "<td class=\"p-0 pl-2 text-center\" style=\"width: 135px;\">\n",
              "<a href=\"/en/coins/bitcoin?chart=7_days#panel\">\n",
              "<img alt=\"bitcoin (BTC) 7d chart\" height=\"50\" loading=\"lazy\" src=\"https://www.coingecko.com/coins/1/sparkline\" width=\"135\"/>\n",
              "</a> </td>\n",
              "</tr>"
            ]
          },
          "metadata": {},
          "execution_count": 9
        }
      ],
      "source": [
        "results[0]"
      ]
    },
    {
      "cell_type": "markdown",
      "metadata": {
        "id": "9grk5yoiFFZN"
      },
      "source": [
        "### Target necessary data"
      ]
    },
    {
      "cell_type": "code",
      "execution_count": 10,
      "metadata": {
        "id": "6Xv-O73AFFZN"
      },
      "outputs": [],
      "source": [
        "# Name\n",
        "# Price\n",
        "# 24h Change\n",
        "# Market Cap\n",
        "# 24h Volume\n",
        "# Supply"
      ]
    },
    {
      "cell_type": "markdown",
      "metadata": {
        "id": "wybWDDK1FFZN"
      },
      "source": [
        "#### Name"
      ]
    },
    {
      "cell_type": "code",
      "execution_count": 11,
      "metadata": {
        "id": "_nTUyC-7FFZN",
        "outputId": "d4674884-c39a-4a25-9864-513d1d352f02",
        "colab": {
          "base_uri": "https://localhost:8080/",
          "height": 35
        }
      },
      "outputs": [
        {
          "output_type": "execute_result",
          "data": {
            "text/plain": [
              "'Bitcoin'"
            ],
            "application/vnd.google.colaboratory.intrinsic+json": {
              "type": "string"
            }
          },
          "metadata": {},
          "execution_count": 11
        }
      ],
      "source": [
        "results[0].find('a', {'class':'tw-hidden lg:tw-flex font-bold tw-items-center tw-justify-between'}).get_text().strip()"
      ]
    },
    {
      "cell_type": "markdown",
      "metadata": {
        "id": "RdsD15HUFFZO"
      },
      "source": [
        "#### Price"
      ]
    },
    {
      "cell_type": "code",
      "execution_count": 29,
      "metadata": {
        "id": "fKOXq44MFFZO",
        "outputId": "dbf6f189-e94f-4aef-c5db-cb2592fe79ff",
        "colab": {
          "base_uri": "https://localhost:8080/",
          "height": 35
        }
      },
      "outputs": [
        {
          "output_type": "execute_result",
          "data": {
            "text/plain": [
              "'$19,766.29'"
            ],
            "application/vnd.google.colaboratory.intrinsic+json": {
              "type": "string"
            }
          },
          "metadata": {},
          "execution_count": 29
        }
      ],
      "source": [
        "results[0].find('td', {'class':'td-price price text-right pl-0'}).get_text().strip()"
      ]
    },
    {
      "cell_type": "markdown",
      "metadata": {
        "id": "O-z3RhzHFFZO"
      },
      "source": [
        "#### 1h Change"
      ]
    },
    {
      "cell_type": "code",
      "execution_count": 30,
      "metadata": {
        "id": "_hCUljeqFFZO",
        "outputId": "3ce42dff-9072-4cd9-b76c-7a1f80ecb8b5",
        "colab": {
          "base_uri": "https://localhost:8080/",
          "height": 35
        }
      },
      "outputs": [
        {
          "output_type": "execute_result",
          "data": {
            "text/plain": [
              "'0.1%'"
            ],
            "application/vnd.google.colaboratory.intrinsic+json": {
              "type": "string"
            }
          },
          "metadata": {},
          "execution_count": 30
        }
      ],
      "source": [
        "results[0].find('td', {'class':'td-change1h'}).get_text().strip()"
      ]
    },
    {
      "cell_type": "markdown",
      "metadata": {
        "id": "NV2gL2_6FFZO"
      },
      "source": [
        "#### 24h Change"
      ]
    },
    {
      "cell_type": "code",
      "execution_count": 31,
      "metadata": {
        "id": "1v08WJSXFFZO",
        "outputId": "0a5df2aa-0992-45a8-c9c5-61154bad4315",
        "colab": {
          "base_uri": "https://localhost:8080/",
          "height": 35
        }
      },
      "outputs": [
        {
          "output_type": "execute_result",
          "data": {
            "text/plain": [
              "'1.3%'"
            ],
            "application/vnd.google.colaboratory.intrinsic+json": {
              "type": "string"
            }
          },
          "metadata": {},
          "execution_count": 31
        }
      ],
      "source": [
        "results[0].find('td', {'class':'td-change24h'}).get_text().strip()"
      ]
    },
    {
      "cell_type": "markdown",
      "metadata": {
        "id": "O2j7z8SGFFZO"
      },
      "source": [
        "#### 7 day change"
      ]
    },
    {
      "cell_type": "code",
      "execution_count": 32,
      "metadata": {
        "id": "Ayy9JDNAFFZO",
        "outputId": "92f0c7f9-d88d-4e03-90b6-0ed1b2eb7e0e",
        "colab": {
          "base_uri": "https://localhost:8080/",
          "height": 35
        }
      },
      "outputs": [
        {
          "output_type": "execute_result",
          "data": {
            "text/plain": [
              "'-4.7%'"
            ],
            "application/vnd.google.colaboratory.intrinsic+json": {
              "type": "string"
            }
          },
          "metadata": {},
          "execution_count": 32
        }
      ],
      "source": [
        "results[0].find('td', {'class':'td-change7d'}).get_text().strip()"
      ]
    },
    {
      "cell_type": "markdown",
      "metadata": {
        "id": "bJ52APIPFFZP"
      },
      "source": [
        "#### 24h Volume"
      ]
    },
    {
      "cell_type": "code",
      "execution_count": 33,
      "metadata": {
        "id": "Dy1cOzPRFFZP",
        "outputId": "412cc545-1b4a-4001-a166-46e3f8dfa69e",
        "colab": {
          "base_uri": "https://localhost:8080/",
          "height": 35
        }
      },
      "outputs": [
        {
          "output_type": "execute_result",
          "data": {
            "text/plain": [
              "'$53,602,942,487'"
            ],
            "application/vnd.google.colaboratory.intrinsic+json": {
              "type": "string"
            }
          },
          "metadata": {},
          "execution_count": 33
        }
      ],
      "source": [
        "results[2].find('td', {'class':'td-liquidity_score'}).get_text().strip()"
      ]
    },
    {
      "cell_type": "markdown",
      "metadata": {
        "id": "-xSo1Kx7FFZP"
      },
      "source": [
        "#### Market Cap"
      ]
    },
    {
      "cell_type": "code",
      "execution_count": 34,
      "metadata": {
        "id": "7xP3xT20FFZP",
        "outputId": "586b89b9-d3c1-4e67-9efc-f00dfb991b13",
        "colab": {
          "base_uri": "https://localhost:8080/",
          "height": 35
        }
      },
      "outputs": [
        {
          "output_type": "execute_result",
          "data": {
            "text/plain": [
              "'$376,957,052,654'"
            ],
            "application/vnd.google.colaboratory.intrinsic+json": {
              "type": "string"
            }
          },
          "metadata": {},
          "execution_count": 34
        }
      ],
      "source": [
        "results[0].find('td', {'class':'td-market_cap'}).get_text().strip()"
      ]
    },
    {
      "cell_type": "code",
      "execution_count": 34,
      "metadata": {
        "id": "Nqx6OUceFFZP"
      },
      "outputs": [],
      "source": [
        ""
      ]
    },
    {
      "cell_type": "markdown",
      "metadata": {
        "id": "u7GpqlhSFFZP"
      },
      "source": [
        "### Put everything together inside a For-Loop"
      ]
    },
    {
      "cell_type": "code",
      "execution_count": 38,
      "metadata": {
        "id": "x9qtMz28FFZP"
      },
      "outputs": [],
      "source": [
        "name = []\n",
        "price = []\n",
        "change_1h = []\n",
        "change_24h = []\n",
        "change_7d = []\n",
        "volume_24h = []\n",
        "market_cap=[]\n",
        "\n",
        "for result in results:\n",
        "    \n",
        "    # name\n",
        "    try:\n",
        "        name.append(result.find('a', {'class':'tw-hidden lg:tw-flex font-bold tw-items-center tw-justify-between'}).get_text().strip()) \n",
        "    except:\n",
        "        name.append('n/a')\n",
        "    \n",
        "    # price\n",
        "    try:\n",
        "        price.append(result.find('td', {'class':'td-price price text-right pl-0'}).get_text().strip())\n",
        "    except:\n",
        "        price.append('n/a')\n",
        "    \n",
        "    # change_1h\n",
        "    try:\n",
        "        change_1h.append(result.find('td', {'class':'td-change1h'}).get_text().strip())\n",
        "    except:\n",
        "        change_1h.append('n/a')\n",
        "        \n",
        "    # change_24h\n",
        "    try:\n",
        "        change_24h.append(result.find('td', {'class':'td-change24h'}).get_text().strip())\n",
        "    except:\n",
        "        change_24h.append('n/a')\n",
        "    \n",
        "    # change_7d\n",
        "    try:\n",
        "        change_7d.append(result.find('td', {'class':'td-change7d'}).get_text().strip())\n",
        "    except:\n",
        "        change_7d.append('n/a')\n",
        "    \n",
        "    # volume_24h\n",
        "    try:\n",
        "        volume_24h.append(result.find('td', {'class':'td-liquidity_score'}).get_text().strip())\n",
        "    except:\n",
        "        volume_24h.append('n/a')\n",
        "    \n",
        "    # market_cap\n",
        "    try:\n",
        "        market_cap.append(result.find('td', {'class':'td-market_cap'}).get_text().strip())\n",
        "    except:\n",
        "        market_cap.append('n/a')"
      ]
    },
    {
      "cell_type": "markdown",
      "metadata": {
        "id": "UGR01GCWFFZQ"
      },
      "source": [
        "### Create Pandas Dataframe"
      ]
    },
    {
      "cell_type": "code",
      "execution_count": 39,
      "metadata": {
        "id": "bFnBNhAiFFZQ"
      },
      "outputs": [],
      "source": [
        "# create dataframe\n",
        "crypto = pd.DataFrame({'Coin': name, 'Price':price, 'Change 1h':change_1h,\n",
        "                                'Change 24h': change_24h, 'Change 7d': change_7d, 'Volume 24h': volume_24h,\n",
        "                      'Market Cap': market_cap})"
      ]
    },
    {
      "cell_type": "code",
      "execution_count": 40,
      "metadata": {
        "id": "l-phPl-OFFZQ",
        "outputId": "154f3b47-85b9-4f70-aac4-6278e29f3c16",
        "colab": {
          "base_uri": "https://localhost:8080/",
          "height": 424
        }
      },
      "outputs": [
        {
          "output_type": "execute_result",
          "data": {
            "text/plain": [
              "               Coin            Price Change 1h Change 24h Change 7d  \\\n",
              "0           Bitcoin       $19,766.29      0.1%       1.3%     -4.7%   \n",
              "1          Ethereum        $1,130.35      0.3%       5.0%     -5.3%   \n",
              "2            Tether            $1.00     -0.1%       0.0%     -0.0%   \n",
              "3          USD Coin            $1.00      0.0%       0.0%      0.0%   \n",
              "4               BNB          $228.91      0.0%       3.5%     -2.1%   \n",
              "..              ...              ...       ...        ...       ...   \n",
              "95             Celo        $0.915438      0.1%       5.8%     -2.8%   \n",
              "96  Celsius Network        $0.963959      0.4%       7.6%     28.1%   \n",
              "97             Gala  $0.053261982369      0.4%      -0.0%    -11.2%   \n",
              "98             Kava            $1.79     -0.5%       3.4%     -7.6%   \n",
              "99            ECOMI  $0.001406246182      0.7%      -0.9%      4.9%   \n",
              "\n",
              "         Volume 24h        Market Cap  \n",
              "0   $21,013,813,704  $376,957,052,654  \n",
              "1   $15,235,012,277  $135,024,714,001  \n",
              "2   $53,602,942,487   $66,061,607,876  \n",
              "3    $5,187,814,299   $55,924,876,201  \n",
              "4    $1,037,546,800   $37,339,205,584  \n",
              "..              ...               ...  \n",
              "95      $22,191,432      $411,726,804  \n",
              "96      $14,891,062      $407,020,566  \n",
              "97     $139,419,972      $399,286,608  \n",
              "98      $12,948,431      $396,217,850  \n",
              "99         $950,953      $378,916,874  \n",
              "\n",
              "[100 rows x 7 columns]"
            ],
            "text/html": [
              "\n",
              "  <div id=\"df-5ecd7059-3893-4c48-b3eb-9097973eb7cf\">\n",
              "    <div class=\"colab-df-container\">\n",
              "      <div>\n",
              "<style scoped>\n",
              "    .dataframe tbody tr th:only-of-type {\n",
              "        vertical-align: middle;\n",
              "    }\n",
              "\n",
              "    .dataframe tbody tr th {\n",
              "        vertical-align: top;\n",
              "    }\n",
              "\n",
              "    .dataframe thead th {\n",
              "        text-align: right;\n",
              "    }\n",
              "</style>\n",
              "<table border=\"1\" class=\"dataframe\">\n",
              "  <thead>\n",
              "    <tr style=\"text-align: right;\">\n",
              "      <th></th>\n",
              "      <th>Coin</th>\n",
              "      <th>Price</th>\n",
              "      <th>Change 1h</th>\n",
              "      <th>Change 24h</th>\n",
              "      <th>Change 7d</th>\n",
              "      <th>Volume 24h</th>\n",
              "      <th>Market Cap</th>\n",
              "    </tr>\n",
              "  </thead>\n",
              "  <tbody>\n",
              "    <tr>\n",
              "      <th>0</th>\n",
              "      <td>Bitcoin</td>\n",
              "      <td>$19,766.29</td>\n",
              "      <td>0.1%</td>\n",
              "      <td>1.3%</td>\n",
              "      <td>-4.7%</td>\n",
              "      <td>$21,013,813,704</td>\n",
              "      <td>$376,957,052,654</td>\n",
              "    </tr>\n",
              "    <tr>\n",
              "      <th>1</th>\n",
              "      <td>Ethereum</td>\n",
              "      <td>$1,130.35</td>\n",
              "      <td>0.3%</td>\n",
              "      <td>5.0%</td>\n",
              "      <td>-5.3%</td>\n",
              "      <td>$15,235,012,277</td>\n",
              "      <td>$135,024,714,001</td>\n",
              "    </tr>\n",
              "    <tr>\n",
              "      <th>2</th>\n",
              "      <td>Tether</td>\n",
              "      <td>$1.00</td>\n",
              "      <td>-0.1%</td>\n",
              "      <td>0.0%</td>\n",
              "      <td>-0.0%</td>\n",
              "      <td>$53,602,942,487</td>\n",
              "      <td>$66,061,607,876</td>\n",
              "    </tr>\n",
              "    <tr>\n",
              "      <th>3</th>\n",
              "      <td>USD Coin</td>\n",
              "      <td>$1.00</td>\n",
              "      <td>0.0%</td>\n",
              "      <td>0.0%</td>\n",
              "      <td>0.0%</td>\n",
              "      <td>$5,187,814,299</td>\n",
              "      <td>$55,924,876,201</td>\n",
              "    </tr>\n",
              "    <tr>\n",
              "      <th>4</th>\n",
              "      <td>BNB</td>\n",
              "      <td>$228.91</td>\n",
              "      <td>0.0%</td>\n",
              "      <td>3.5%</td>\n",
              "      <td>-2.1%</td>\n",
              "      <td>$1,037,546,800</td>\n",
              "      <td>$37,339,205,584</td>\n",
              "    </tr>\n",
              "    <tr>\n",
              "      <th>...</th>\n",
              "      <td>...</td>\n",
              "      <td>...</td>\n",
              "      <td>...</td>\n",
              "      <td>...</td>\n",
              "      <td>...</td>\n",
              "      <td>...</td>\n",
              "      <td>...</td>\n",
              "    </tr>\n",
              "    <tr>\n",
              "      <th>95</th>\n",
              "      <td>Celo</td>\n",
              "      <td>$0.915438</td>\n",
              "      <td>0.1%</td>\n",
              "      <td>5.8%</td>\n",
              "      <td>-2.8%</td>\n",
              "      <td>$22,191,432</td>\n",
              "      <td>$411,726,804</td>\n",
              "    </tr>\n",
              "    <tr>\n",
              "      <th>96</th>\n",
              "      <td>Celsius Network</td>\n",
              "      <td>$0.963959</td>\n",
              "      <td>0.4%</td>\n",
              "      <td>7.6%</td>\n",
              "      <td>28.1%</td>\n",
              "      <td>$14,891,062</td>\n",
              "      <td>$407,020,566</td>\n",
              "    </tr>\n",
              "    <tr>\n",
              "      <th>97</th>\n",
              "      <td>Gala</td>\n",
              "      <td>$0.053261982369</td>\n",
              "      <td>0.4%</td>\n",
              "      <td>-0.0%</td>\n",
              "      <td>-11.2%</td>\n",
              "      <td>$139,419,972</td>\n",
              "      <td>$399,286,608</td>\n",
              "    </tr>\n",
              "    <tr>\n",
              "      <th>98</th>\n",
              "      <td>Kava</td>\n",
              "      <td>$1.79</td>\n",
              "      <td>-0.5%</td>\n",
              "      <td>3.4%</td>\n",
              "      <td>-7.6%</td>\n",
              "      <td>$12,948,431</td>\n",
              "      <td>$396,217,850</td>\n",
              "    </tr>\n",
              "    <tr>\n",
              "      <th>99</th>\n",
              "      <td>ECOMI</td>\n",
              "      <td>$0.001406246182</td>\n",
              "      <td>0.7%</td>\n",
              "      <td>-0.9%</td>\n",
              "      <td>4.9%</td>\n",
              "      <td>$950,953</td>\n",
              "      <td>$378,916,874</td>\n",
              "    </tr>\n",
              "  </tbody>\n",
              "</table>\n",
              "<p>100 rows × 7 columns</p>\n",
              "</div>\n",
              "      <button class=\"colab-df-convert\" onclick=\"convertToInteractive('df-5ecd7059-3893-4c48-b3eb-9097973eb7cf')\"\n",
              "              title=\"Convert this dataframe to an interactive table.\"\n",
              "              style=\"display:none;\">\n",
              "        \n",
              "  <svg xmlns=\"http://www.w3.org/2000/svg\" height=\"24px\"viewBox=\"0 0 24 24\"\n",
              "       width=\"24px\">\n",
              "    <path d=\"M0 0h24v24H0V0z\" fill=\"none\"/>\n",
              "    <path d=\"M18.56 5.44l.94 2.06.94-2.06 2.06-.94-2.06-.94-.94-2.06-.94 2.06-2.06.94zm-11 1L8.5 8.5l.94-2.06 2.06-.94-2.06-.94L8.5 2.5l-.94 2.06-2.06.94zm10 10l.94 2.06.94-2.06 2.06-.94-2.06-.94-.94-2.06-.94 2.06-2.06.94z\"/><path d=\"M17.41 7.96l-1.37-1.37c-.4-.4-.92-.59-1.43-.59-.52 0-1.04.2-1.43.59L10.3 9.45l-7.72 7.72c-.78.78-.78 2.05 0 2.83L4 21.41c.39.39.9.59 1.41.59.51 0 1.02-.2 1.41-.59l7.78-7.78 2.81-2.81c.8-.78.8-2.07 0-2.86zM5.41 20L4 18.59l7.72-7.72 1.47 1.35L5.41 20z\"/>\n",
              "  </svg>\n",
              "      </button>\n",
              "      \n",
              "  <style>\n",
              "    .colab-df-container {\n",
              "      display:flex;\n",
              "      flex-wrap:wrap;\n",
              "      gap: 12px;\n",
              "    }\n",
              "\n",
              "    .colab-df-convert {\n",
              "      background-color: #E8F0FE;\n",
              "      border: none;\n",
              "      border-radius: 50%;\n",
              "      cursor: pointer;\n",
              "      display: none;\n",
              "      fill: #1967D2;\n",
              "      height: 32px;\n",
              "      padding: 0 0 0 0;\n",
              "      width: 32px;\n",
              "    }\n",
              "\n",
              "    .colab-df-convert:hover {\n",
              "      background-color: #E2EBFA;\n",
              "      box-shadow: 0px 1px 2px rgba(60, 64, 67, 0.3), 0px 1px 3px 1px rgba(60, 64, 67, 0.15);\n",
              "      fill: #174EA6;\n",
              "    }\n",
              "\n",
              "    [theme=dark] .colab-df-convert {\n",
              "      background-color: #3B4455;\n",
              "      fill: #D2E3FC;\n",
              "    }\n",
              "\n",
              "    [theme=dark] .colab-df-convert:hover {\n",
              "      background-color: #434B5C;\n",
              "      box-shadow: 0px 1px 3px 1px rgba(0, 0, 0, 0.15);\n",
              "      filter: drop-shadow(0px 1px 2px rgba(0, 0, 0, 0.3));\n",
              "      fill: #FFFFFF;\n",
              "    }\n",
              "  </style>\n",
              "\n",
              "      <script>\n",
              "        const buttonEl =\n",
              "          document.querySelector('#df-5ecd7059-3893-4c48-b3eb-9097973eb7cf button.colab-df-convert');\n",
              "        buttonEl.style.display =\n",
              "          google.colab.kernel.accessAllowed ? 'block' : 'none';\n",
              "\n",
              "        async function convertToInteractive(key) {\n",
              "          const element = document.querySelector('#df-5ecd7059-3893-4c48-b3eb-9097973eb7cf');\n",
              "          const dataTable =\n",
              "            await google.colab.kernel.invokeFunction('convertToInteractive',\n",
              "                                                     [key], {});\n",
              "          if (!dataTable) return;\n",
              "\n",
              "          const docLinkHtml = 'Like what you see? Visit the ' +\n",
              "            '<a target=\"_blank\" href=https://colab.research.google.com/notebooks/data_table.ipynb>data table notebook</a>'\n",
              "            + ' to learn more about interactive tables.';\n",
              "          element.innerHTML = '';\n",
              "          dataTable['output_type'] = 'display_data';\n",
              "          await google.colab.output.renderOutput(dataTable, element);\n",
              "          const docLink = document.createElement('div');\n",
              "          docLink.innerHTML = docLinkHtml;\n",
              "          element.appendChild(docLink);\n",
              "        }\n",
              "      </script>\n",
              "    </div>\n",
              "  </div>\n",
              "  "
            ]
          },
          "metadata": {},
          "execution_count": 40
        }
      ],
      "source": [
        "# output dataframe\n",
        "crypto"
      ]
    },
    {
      "cell_type": "code",
      "execution_count": 40,
      "metadata": {
        "id": "P2guv7pmFFZQ"
      },
      "outputs": [],
      "source": [
        ""
      ]
    },
    {
      "cell_type": "markdown",
      "metadata": {
        "id": "xOx51yUXFFZQ"
      },
      "source": [
        "### Output in Excel"
      ]
    },
    {
      "cell_type": "code",
      "execution_count": 41,
      "metadata": {
        "id": "w3fOP6oqFFZQ"
      },
      "outputs": [],
      "source": [
        "crypto.to_excel('coingecko.com_single.xlsx', index=False)"
      ]
    }
  ],
  "metadata": {
    "kernelspec": {
      "display_name": "Python 3",
      "language": "python",
      "name": "python3"
    },
    "language_info": {
      "codemirror_mode": {
        "name": "ipython",
        "version": 3
      },
      "file_extension": ".py",
      "mimetype": "text/x-python",
      "name": "python",
      "nbconvert_exporter": "python",
      "pygments_lexer": "ipython3",
      "version": "3.9.2"
    },
    "colab": {
      "name": "Scaping_Coingecko.ipynb",
      "provenance": [],
      "collapsed_sections": []
    }
  },
  "nbformat": 4,
  "nbformat_minor": 0
}